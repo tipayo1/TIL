{
 "cells": [
  {
   "cell_type": "code",
   "execution_count": 1,
   "id": "fd908536",
   "metadata": {},
   "outputs": [
    {
     "name": "stdout",
     "output_type": "stream",
     "text": [
      "3 + 4 = 7\n",
      "3 - 4 = -1\n",
      "3 * 4 = 12\n",
      "3 / 4 = 0.75\n"
     ]
    }
   ],
   "source": [
    "# 219\n",
    "# 두 개의 숫자를 입력받아 합/차/곱/나눗셈을 출력하는 print_arithmetic_operation 함수를 작성하라.\n",
    "\n",
    "def print_arithmetic_operation(a, b):\n",
    "    print(f'{a} + {b} = {a+b}')\n",
    "    print(f'{a} - {b} = {a-b}')\n",
    "    print(f'{a} * {b} = {a*b}')\n",
    "    print(f'{a} / {b} = {a/b}')\n",
    "# 3 + 4 = 7\n",
    "# 3 - 4 = -1\n",
    "# 3 * 4 = 12\n",
    "# 3 / 4 = 0.75\n",
    "\n",
    "print_arithmetic_operation(3, 4)"
   ]
  },
  {
   "cell_type": "code",
   "execution_count": 2,
   "id": "78061a3a",
   "metadata": {},
   "outputs": [
    {
     "data": {
      "text/plain": [
       "3"
      ]
     },
     "execution_count": 2,
     "metadata": {},
     "output_type": "execute_result"
    }
   ],
   "source": [
    "# 220\n",
    "# 세 개의 숫자를 입력받아 가장 큰수를 출력하는 print_max 함수를 정의하라. 단 if 문을 사용해서 수를 비교하라.\n",
    "def print_max(a, b, c):\n",
    "    numbers = [a, b, c]\n",
    "    max_val = 0\n",
    "    for i in numbers:\n",
    "        if i > max_val:\n",
    "            max_val = i\n",
    "    return max_val\n",
    "\n",
    "print_max(1, 2, 3)\n"
   ]
  },
  {
   "cell_type": "code",
   "execution_count": 3,
   "id": "f20f8813",
   "metadata": {},
   "outputs": [
    {
     "name": "stdout",
     "output_type": "stream",
     "text": [
      "86.0\n"
     ]
    }
   ],
   "source": [
    "# 222\n",
    "# 성적 리스트를 입력 받아 평균을 출력하는 print_score 함수를 정의하라.\n",
    "def print_score(*a):\n",
    "    nums = []\n",
    "    for i in a:\n",
    "        nums.append(i)\n",
    "    average = sum(nums) / len(nums)\n",
    "\n",
    "    print(average)\n",
    "\n",
    "print_score(67, 87, 99, 78, 99)\n",
    "\n",
    "# print_score ([1, 2, 3])"
   ]
  }
 ],
 "metadata": {
  "kernelspec": {
   "display_name": "Python 3",
   "language": "python",
   "name": "python3"
  },
  "language_info": {
   "codemirror_mode": {
    "name": "ipython",
    "version": 3
   },
   "file_extension": ".py",
   "mimetype": "text/x-python",
   "name": "python",
   "nbconvert_exporter": "python",
   "pygments_lexer": "ipython3",
   "version": "3.13.2"
  }
 },
 "nbformat": 4,
 "nbformat_minor": 5
}
