{
 "cells": [
  {
   "cell_type": "markdown",
   "id": "015c665a",
   "metadata": {},
   "source": [
    "### 22번 문제\n",
    "학생들의 성적 딕셔너리를 만들고, 평균 점수를 계산하여 평균 이상인 학생들만 출력하세요."
   ]
  },
  {
   "cell_type": "code",
   "execution_count": 3,
   "id": "3e3ee36e",
   "metadata": {},
   "outputs": [
    {
     "name": "stdout",
     "output_type": "stream",
     "text": [
      "Alice: 85\n",
      "Charlie: 90\n"
     ]
    }
   ],
   "source": [
    "scores = {'Alice': 85, 'Bob': 72, 'Charlie': 90, 'David': 60}\n",
    "average = sum(scores.values()) / len(scores)\n",
    "for name, score in scores.items():\n",
    "    if score >= average:\n",
    "        print(f'{name}: {score}')\n",
    "\n"
   ]
  },
  {
   "cell_type": "markdown",
   "id": "cf788c80",
   "metadata": {},
   "source": [
    "### 23번 문제\n",
    "주어진 문자열에서 숫자만 추출하여 합계를 구하는 프로그램을 작성하세요."
   ]
  },
  {
   "cell_type": "code",
   "execution_count": null,
   "id": "7ea517c6",
   "metadata": {},
   "outputs": [
    {
     "name": "stdout",
     "output_type": "stream",
     "text": [
      "10\n"
     ]
    }
   ],
   "source": [
    "text = \"a1b2c3d4\"\n",
    "nums = []\n",
    "for t in text:\n",
    "    if 48 <= ord(t) <=57:\n",
    "        nums.append(int(t))\n",
    "print(sum(nums))\n",
    "\n"
   ]
  },
  {
   "cell_type": "code",
   "execution_count": 19,
   "id": "ded5cc78",
   "metadata": {},
   "outputs": [
    {
     "name": "stdout",
     "output_type": "stream",
     "text": [
      "10\n"
     ]
    }
   ],
   "source": [
    "text = \"a1b2c3d4\"\n",
    "nums = [int(t) for t in text if t.isdigit()]\n",
    "print(sum(nums))"
   ]
  },
  {
   "cell_type": "code",
   "execution_count": 17,
   "id": "ce2f4d22",
   "metadata": {},
   "outputs": [
    {
     "data": {
      "text/plain": [
       "49"
      ]
     },
     "execution_count": 17,
     "metadata": {},
     "output_type": "execute_result"
    }
   ],
   "source": [
    "ord('1')"
   ]
  },
  {
   "cell_type": "markdown",
   "id": "8a14b3de",
   "metadata": {},
   "source": [
    "### 24번 문제\n",
    "피보나치 수열의 첫 10개 항을 리스트에 저장하여 출력하세요."
   ]
  },
  {
   "cell_type": "code",
   "execution_count": 21,
   "id": "cc8b02fd",
   "metadata": {},
   "outputs": [
    {
     "ename": "TypeError",
     "evalue": "'list' object is not callable",
     "output_type": "error",
     "traceback": [
      "\u001b[31m---------------------------------------------------------------------------\u001b[39m",
      "\u001b[31mTypeError\u001b[39m                                 Traceback (most recent call last)",
      "\u001b[36mCell\u001b[39m\u001b[36m \u001b[39m\u001b[32mIn[21]\u001b[39m\u001b[32m, line 5\u001b[39m\n\u001b[32m      3\u001b[39m \u001b[38;5;28;01mfor\u001b[39;00m i \u001b[38;5;129;01min\u001b[39;00m fibonacci[::-\u001b[32m1\u001b[39m]:\n\u001b[32m      4\u001b[39m     fibonacci.append(fibonacci[-\u001b[32m1\u001b[39m] + fibonacci[-\u001b[32m2\u001b[39m])\n\u001b[32m----> \u001b[39m\u001b[32m5\u001b[39m     \u001b[38;5;28;01mif\u001b[39;00m \u001b[43mfibonacci\u001b[49m\u001b[43m(\u001b[49m\u001b[38;5;28;43mrange\u001b[39;49m\u001b[43m(\u001b[49m\u001b[32;43m10\u001b[39;49m\u001b[43m)\u001b[49m\u001b[43m)\u001b[49m:\n\u001b[32m      6\u001b[39m         \u001b[38;5;28;01mbreak\u001b[39;00m\n",
      "\u001b[31mTypeError\u001b[39m: 'list' object is not callable"
     ]
    }
   ],
   "source": [
    "fibonacci = [0, 1]\n",
    "# fibonacci.append() = fibonacci[0] + i[1] \n",
    "for i in fibonacci[::-1]:\n",
    "    fibonacci.append(fibonacci[-1] + fibonacci[-2])\n",
    "    if fibonacci(range(10)):\n",
    "        break\n"
   ]
  },
  {
   "cell_type": "code",
   "execution_count": 22,
   "id": "103c53b6",
   "metadata": {},
   "outputs": [
    {
     "name": "stdout",
     "output_type": "stream",
     "text": [
      "[0, 1, 1, 2, 3, 5, 8, 13, 21, 34]\n"
     ]
    }
   ],
   "source": [
    "fibonacci = [0, 1]\n",
    "\n",
    "while len(fibonacci) < 10:\n",
    "    fibonacci.append(fibonacci[-1] + fibonacci[-2])\n",
    "\n",
    "print(fibonacci)"
   ]
  },
  {
   "cell_type": "code",
   "execution_count": 23,
   "id": "72210405",
   "metadata": {},
   "outputs": [
    {
     "name": "stdout",
     "output_type": "stream",
     "text": [
      "[0, 1, 1, 2, 3, 5, 8, 13, 21, 34]\n"
     ]
    }
   ],
   "source": [
    "fibonacci = [0, 1]\n",
    "for _ in range(8):  # 이미 2개 있으니 8번만 추가\n",
    "    fibonacci.append(fibonacci[-1] + fibonacci[-2])\n",
    "\n",
    "print(fibonacci)"
   ]
  },
  {
   "cell_type": "markdown",
   "id": "cf47b1ae",
   "metadata": {},
   "source": [
    "### 25번 문제\n",
    "영어 문장을 입력받아 단어 개수, 문자 개수(공백 제외), 모음 개수를 세는 프로그램을 작성하세요."
   ]
  },
  {
   "cell_type": "code",
   "execution_count": null,
   "id": "92747767",
   "metadata": {},
   "outputs": [
    {
     "name": "stdout",
     "output_type": "stream",
     "text": [
      "단어 개수: 4, 문자 개수: 9, 모음 개수: 2\n"
     ]
    }
   ],
   "source": [
    "sentence = input(\"영어 문장을 입력하세요: \")\n",
    "words = sentence.split(' ')\n",
    "chars = [c for c in sentence if not c.isdigit() and c != ' ']\n",
    "vowels = [v for v in chars if v.lower() in 'aeiou']\n",
    "\n",
    "print(f'단어 개수: {len(words)}, 문자 개수: {len(chars)}, 모음 개수: {len(vowels)}')\n",
    "\n",
    "# 시간이 생기면 영어만 입력가능하게 코드를 추가하자\n"
   ]
  },
  {
   "cell_type": "markdown",
   "id": "65dcf00d",
   "metadata": {},
   "source": [
    "### 26번 문제\n",
    "2차원 리스트 [[1, 2, 3], [4, 5, 6], [7, 8, 9]]의 모든 원소의 합을 구하세요."
   ]
  },
  {
   "cell_type": "code",
   "execution_count": 42,
   "id": "26a8319e",
   "metadata": {},
   "outputs": [
    {
     "name": "stdout",
     "output_type": "stream",
     "text": [
      "45\n"
     ]
    }
   ],
   "source": [
    "matrix = [[1, 2, 3], [4, 5, 6], [7, 8, 9]]\n",
    "print(sum(sum(i) for i in matrix))"
   ]
  },
  {
   "cell_type": "markdown",
   "id": "dea32b37",
   "metadata": {},
   "source": [
    "### 27번 문제\n",
    "문자열 리스트에서 가장 긴 문자열과 가장 짧은 문자열을 찾아 출력하세요."
   ]
  },
  {
   "cell_type": "code",
   "execution_count": null,
   "id": "28d8b0c0",
   "metadata": {},
   "outputs": [
    {
     "ename": "ValueError",
     "evalue": "4 is not in list",
     "output_type": "error",
     "traceback": [
      "\u001b[31m---------------------------------------------------------------------------\u001b[39m",
      "\u001b[31mValueError\u001b[39m                                Traceback (most recent call last)",
      "\u001b[36mCell\u001b[39m\u001b[36m \u001b[39m\u001b[32mIn[49]\u001b[39m\u001b[32m, line 5\u001b[39m\n\u001b[32m      3\u001b[39m short = \u001b[38;5;28mmin\u001b[39m(\u001b[38;5;28mlen\u001b[39m(w) \u001b[38;5;28;01mfor\u001b[39;00m w \u001b[38;5;129;01min\u001b[39;00m words)\n\u001b[32m      4\u001b[39m long = \u001b[38;5;28mmax\u001b[39m(\u001b[38;5;28mlen\u001b[39m(w) \u001b[38;5;28;01mfor\u001b[39;00m w \u001b[38;5;129;01min\u001b[39;00m words)\n\u001b[32m----> \u001b[39m\u001b[32m5\u001b[39m \u001b[38;5;28mprint\u001b[39m(\u001b[43mwords\u001b[49m\u001b[43m.\u001b[49m\u001b[43mindex\u001b[49m\u001b[43m(\u001b[49m\u001b[43mshort\u001b[49m\u001b[43m)\u001b[49m, long)\n",
      "\u001b[31mValueError\u001b[39m: 4 is not in list"
     ]
    }
   ],
   "source": [
    "words = [\"apple\", \"banana\", \"kiwi\", \"strawberry\"]\n",
    "\n",
    "short = min(len(w) for w in words)\n",
    "long = max(len(w) for w in words)\n",
    "print(short, long)"
   ]
  },
  {
   "cell_type": "code",
   "execution_count": null,
   "id": "82d16cfa",
   "metadata": {},
   "outputs": [
    {
     "name": "stdout",
     "output_type": "stream",
     "text": [
      "가장 짧은 단어: kiwi (길이: 4)\n",
      "가장 긴 단어: strawberry (길이: 10)\n"
     ]
    }
   ],
   "source": [
    "# 정답코드\n",
    "\n",
    "words = [\"apple\", \"banana\", \"kiwi\", \"strawberry\"]\n",
    "\n",
    "# 길이 리스트 생성\n",
    "lengths = [len(w) for w in words]\n",
    "\n",
    "# 최솟값, 최댓값 인덱스 찾기\n",
    "min_idx = lengths.index(min(lengths))\n",
    "max_idx = lengths.index(max(lengths))\n",
    "\n",
    "short_word = words[min_idx]\n",
    "short_len = lengths[min_idx]\n",
    "\n",
    "long_word = words[max_idx]\n",
    "long_len = lengths[max_idx]\n",
    "\n",
    "print(f\"가장 짧은 단어: {short_word} (길이: {short_len})\")\n",
    "print(f\"가장 긴 단어: {long_word} (길이: {long_len})\")"
   ]
  },
  {
   "cell_type": "code",
   "execution_count": null,
   "id": "adabcbd8",
   "metadata": {},
   "outputs": [],
   "source": []
  },
  {
   "cell_type": "markdown",
   "id": "88c6ac5b",
   "metadata": {},
   "source": [
    "### 28번 문제\n",
    "로또 번호 생성기를 만드세요. (1~45 중 중복 없는 6개 숫자)"
   ]
  },
  {
   "cell_type": "code",
   "execution_count": 54,
   "id": "5c9030f3",
   "metadata": {},
   "outputs": [
    {
     "name": "stdout",
     "output_type": "stream",
     "text": [
      "[15, 2, 28, 33, 19, 12]\n"
     ]
    }
   ],
   "source": [
    "import random\n",
    "print(random.sample(range(1, 46), 6))"
   ]
  },
  {
   "cell_type": "markdown",
   "id": "4cdf20f0",
   "metadata": {},
   "source": [
    "### 29번 문제\n",
    "문자열을 입력받아 각 문자의 ASCII 값을 딕셔너리로 저장하여 출력하세요."
   ]
  },
  {
   "cell_type": "code",
   "execution_count": 57,
   "id": "4ff89e6f",
   "metadata": {},
   "outputs": [
    {
     "name": "stdout",
     "output_type": "stream",
     "text": [
      "{'h': 104, 'i': 105}\n"
     ]
    }
   ],
   "source": [
    "text = input(\"문자열을 입력하세요: \")\n",
    "ascii_code = {}\n",
    "for t in text:\n",
    "    ascii_code[t] = ord(t)\n",
    "\n",
    "print(ascii_code)"
   ]
  },
  {
   "cell_type": "markdown",
   "id": "d458db98",
   "metadata": {},
   "source": [
    "### 30번 문제\n",
    "주어진 문자열에서 가장 많이 나타나는 문자와 그 개수를 찾아 출력하세요."
   ]
  },
  {
   "cell_type": "code",
   "execution_count": null,
   "id": "edbc2d19",
   "metadata": {},
   "outputs": [
    {
     "ename": "AttributeError",
     "evalue": "'dict' object has no attribute 'count'",
     "output_type": "error",
     "traceback": [
      "\u001b[31m---------------------------------------------------------------------------\u001b[39m",
      "\u001b[31mAttributeError\u001b[39m                            Traceback (most recent call last)",
      "\u001b[36mCell\u001b[39m\u001b[36m \u001b[39m\u001b[32mIn[64]\u001b[39m\u001b[32m, line 6\u001b[39m\n\u001b[32m      3\u001b[39m \u001b[38;5;28;01mfor\u001b[39;00m t \u001b[38;5;129;01min\u001b[39;00m text:\n\u001b[32m      4\u001b[39m     chars[t] = text.count(t)\n\u001b[32m----> \u001b[39m\u001b[32m6\u001b[39m \u001b[38;5;28mprint\u001b[39m(\u001b[33mf\u001b[39m\u001b[33m\"\u001b[39m\u001b[33m가장 많이 나온 문자: \u001b[39m\u001b[33m'\u001b[39m\u001b[38;5;132;01m{\u001b[39;00m\u001b[38;5;28mmax\u001b[39m(chars)\u001b[38;5;132;01m}\u001b[39;00m\u001b[33m'\u001b[39m\u001b[33m, 개수: \u001b[39m\u001b[38;5;132;01m{\u001b[39;00m\u001b[38;5;28mmax\u001b[39m(\u001b[43mchars\u001b[49m\u001b[43m.\u001b[49m\u001b[43mcount\u001b[49m())\u001b[38;5;132;01m}\u001b[39;00m\u001b[33m\"\u001b[39m)\n",
      "\u001b[31mAttributeError\u001b[39m: 'dict' object has no attribute 'count'"
     ]
    }
   ],
   "source": [
    "text = \"mississippi\"\n",
    "chars = {}\n",
    "for t in text:\n",
    "    chars[t] = text.count(t)\n",
    "\n",
    "print(f\"가장 많이 나온 문자: '{max(chars)}', 개수: {max(chars)}\")"
   ]
  },
  {
   "cell_type": "code",
   "execution_count": 66,
   "id": "050f4707",
   "metadata": {},
   "outputs": [],
   "source": [
    "def solution(number1, number2):\n",
    "    answer = 0\n",
    "    answer = int(number1 / number2 * 100)\n",
    "    return answer"
   ]
  }
 ],
 "metadata": {
  "kernelspec": {
   "display_name": "Python 3",
   "language": "python",
   "name": "python3"
  },
  "language_info": {
   "codemirror_mode": {
    "name": "ipython",
    "version": 3
   },
   "file_extension": ".py",
   "mimetype": "text/x-python",
   "name": "python",
   "nbconvert_exporter": "python",
   "pygments_lexer": "ipython3",
   "version": "3.13.2"
  }
 },
 "nbformat": 4,
 "nbformat_minor": 5
}
