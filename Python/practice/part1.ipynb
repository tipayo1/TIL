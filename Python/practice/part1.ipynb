{
 "cells": [
  {
   "cell_type": "markdown",
   "id": "f5169dd8",
   "metadata": {},
   "source": [
    "### 1번 문제\n",
    "사용자로부터 두 개의 숫자를 입력받아 더한 결과를 출력하는 프로그램을 작성하세요."
   ]
  },
  {
   "cell_type": "code",
   "execution_count": null,
   "id": "548dcc86",
   "metadata": {},
   "outputs": [
    {
     "name": "stdout",
     "output_type": "stream",
     "text": [
      "3\n"
     ]
    }
   ],
   "source": [
    "num1 = int(input('숫자를 입력하세요:'))\n",
    "num2 = int(input('숫자를 입력하세요:'))\n",
    "sum = num1 + num2\n",
    "print(sum)"
   ]
  },
  {
   "cell_type": "code",
   "execution_count": null,
   "id": "e981f2fb",
   "metadata": {},
   "outputs": [],
   "source": [
    "num1 = int(input('숫자를 입력하세요:'))\n",
    "num2 = int(input('숫자를 입력하세요:'))\n",
    "print(num1 + num2)"
   ]
  },
  {
   "cell_type": "markdown",
   "id": "6fe6a717",
   "metadata": {},
   "source": [
    "### 2번 문제\n",
    "다음 변수들의 타입을 출력하세요: a = 10, b = 3.14, c = \"hello\", d = True"
   ]
  },
  {
   "cell_type": "code",
   "execution_count": 7,
   "id": "663605e7",
   "metadata": {},
   "outputs": [
    {
     "data": {
      "text/plain": [
       "(int, float, str, bool)"
      ]
     },
     "execution_count": 7,
     "metadata": {},
     "output_type": "execute_result"
    }
   ],
   "source": [
    "a = 10\n",
    "b = 3.14\n",
    "c = \"hello\"\n",
    "d = True\n",
    "\n",
    "type(a), type(b), type(c), type(d)"
   ]
  },
  {
   "cell_type": "code",
   "execution_count": 38,
   "id": "a903f83d",
   "metadata": {},
   "outputs": [
    {
     "name": "stdout",
     "output_type": "stream",
     "text": [
      "[<class 'int'>, <class 'float'>, <class 'str'>, <class 'bool'>]\n"
     ]
    }
   ],
   "source": [
    "a = 10\n",
    "b = 3.14\n",
    "c = \"hello\"\n",
    "d = True\n",
    "\n",
    "print([type(i) for i in [a, b, c ,d]])"
   ]
  },
  {
   "cell_type": "markdown",
   "id": "3d54c52e",
   "metadata": {},
   "source": [
    "### 3번 문제\n",
    "두 문자열을 결합하고, 결합된 문자열의 길이를 출력하세요."
   ]
  },
  {
   "cell_type": "code",
   "execution_count": 9,
   "id": "b465aa3e",
   "metadata": {},
   "outputs": [
    {
     "data": {
      "text/plain": [
       "10"
      ]
     },
     "execution_count": 9,
     "metadata": {},
     "output_type": "execute_result"
    }
   ],
   "source": [
    "str1 = \"Hello\"\n",
    "str2 = \"World\"\n",
    "len(str1 + str2)"
   ]
  },
  {
   "cell_type": "code",
   "execution_count": null,
   "id": "7550d266",
   "metadata": {},
   "outputs": [
    {
     "name": "stdout",
     "output_type": "stream",
     "text": [
      "5\n"
     ]
    }
   ],
   "source": [
    "result = 0\n",
    "for el in str1:\n",
    "    result += 1\n",
    "\n",
    "print(result)"
   ]
  },
  {
   "cell_type": "code",
   "execution_count": 40,
   "id": "1bef1f35",
   "metadata": {},
   "outputs": [
    {
     "name": "stdout",
     "output_type": "stream",
     "text": [
      "1\n"
     ]
    }
   ],
   "source": [
    "# min 없이 최소값 찾기\n",
    "\n",
    "lst = [3, 8, 5, 2, 7, 1]\n",
    "min_num = float('inf')\n",
    "for i in lst:\n",
    "    if min_num > i:\n",
    "        min_num = i\n",
    "\n",
    "print(min_num)"
   ]
  },
  {
   "cell_type": "code",
   "execution_count": 41,
   "id": "43a0dc95",
   "metadata": {},
   "outputs": [
    {
     "name": "stdout",
     "output_type": "stream",
     "text": [
      "1\n"
     ]
    }
   ],
   "source": [
    "# min 없이 최소값 찾기\n",
    "lst = [3, 8, 5, 2, 7, 1]\n",
    "\n",
    "if lst == []:\n",
    "    print('비어있음 안됨!')\n",
    "else:\n",
    "    lst = [3, 8, 5, 2, 7, 1]\n",
    "    min_num = float('inf')\n",
    "    for i in lst:\n",
    "        if min_num > i:\n",
    "            min_num = i\n",
    "\n",
    "    print(min_num)"
   ]
  },
  {
   "cell_type": "code",
   "execution_count": 72,
   "id": "0b26c398",
   "metadata": {},
   "outputs": [
    {
     "name": "stdout",
     "output_type": "stream",
     "text": [
      "8\n"
     ]
    }
   ],
   "source": [
    "# [숙제] max 없이 최대값 찾기\n",
    "\n",
    "lst = [3, 8, 5, 2, 7, 1]\n",
    "max_num = 0\n",
    "for i in lst:\n",
    "    if max_num < i:\n",
    "        max_num = i\n",
    "\n",
    "print(max_num)"
   ]
  },
  {
   "cell_type": "code",
   "execution_count": null,
   "id": "6ec210fd",
   "metadata": {},
   "outputs": [
    {
     "name": "stdout",
     "output_type": "stream",
     "text": [
      "[1, 2, 3, 5, 7, 8]\n"
     ]
    }
   ],
   "source": [
    "# [숙제] 메서드 없이 정렬기능 만들기\n",
    "\n",
    "lst = [3, 8, 5, 2, 7, 1]\n",
    "fn = []\n",
    "for i in lst:\n",
    "    if not fn:\n",
    "        fn.append(i)\n",
    "    else:\n",
    "        # 올바른 삽입 위치 찾기\n",
    "        for idx in range(len(fn)):\n",
    "            if i <= fn[idx]:\n",
    "                fn.insert(idx, i)   # 그 위치에 삽입\n",
    "                break\n",
    "        else:\n",
    "            fn.append(i)           # 끝까지 작거나 같은 값이 없으면 마지막에 추가\n",
    "\n",
    "print(fn)"
   ]
  },
  {
   "cell_type": "code",
   "execution_count": null,
   "id": "0d6c0621",
   "metadata": {},
   "outputs": [
    {
     "name": "stdout",
     "output_type": "stream",
     "text": [
      "[1, 2, 3, 5, 7, 8]\n"
     ]
    }
   ],
   "source": [
    "# [숙제] 메서드 없이 정렬기능 만들기\n",
    "\n",
    "lst = [3, 8, 5, 2, 7, 1]\n",
    "fn = []\n",
    "\n",
    "for i in lst:\n",
    "    # 들어갈 자리를 처음(0)부터 하나씩 탐색\n",
    "    for j in range(len(fn)):\n",
    "        if i <= fn[j]:\n",
    "            fn.insert(j, i)\n",
    "            break\n",
    "    else:\n",
    "        # 끝까지 자기보다 작거나 같은 애를 못 찾으면 맨 뒤에 추가\n",
    "        fn.append(i)\n",
    "\n",
    "print(fn)"
   ]
  },
  {
   "cell_type": "markdown",
   "id": "46d99a44",
   "metadata": {},
   "source": [
    "### 4번 문제\n",
    "10을 3으로 나눈 몫과 나머지를 각각 구하세요."
   ]
  },
  {
   "cell_type": "code",
   "execution_count": 48,
   "id": "0de1751f",
   "metadata": {},
   "outputs": [
    {
     "name": "stdout",
     "output_type": "stream",
     "text": [
      "몫: 3 , 나머지: 1\n"
     ]
    }
   ],
   "source": [
    "a = 10\n",
    "b = 3\n",
    "print('몫:', a // 3, ', ''나머지:', a % 3)"
   ]
  },
  {
   "cell_type": "markdown",
   "id": "a4e7cdb2",
   "metadata": {},
   "source": [
    "### 5번 문제\n",
    "주어진 숫자가 짝수인지 홀수인지 판별하는 프로그램을 작성하세요."
   ]
  },
  {
   "cell_type": "code",
   "execution_count": 49,
   "id": "5e22ad9d",
   "metadata": {},
   "outputs": [
    {
     "name": "stdout",
     "output_type": "stream",
     "text": [
      "홀수입니다\n"
     ]
    }
   ],
   "source": [
    "num = int(input(\"숫자를 입력하세요: \"))\n",
    "print('짝수입니다' if num % 2 == 0 else '홀수입니다')"
   ]
  },
  {
   "cell_type": "code",
   "execution_count": 50,
   "id": "b1f53979",
   "metadata": {},
   "outputs": [
    {
     "name": "stdout",
     "output_type": "stream",
     "text": [
      "홀수\n"
     ]
    }
   ],
   "source": [
    "if num % 2 == 0:\n",
    "    print('짝수') \n",
    "else:\n",
    "    print('홀수') "
   ]
  },
  {
   "cell_type": "markdown",
   "id": "09c0ed1e",
   "metadata": {},
   "source": [
    "### 6번 문제\n",
    "문자열 \"Python Programming\"에서 \"Python\"만 추출하여 출력하세요."
   ]
  },
  {
   "cell_type": "code",
   "execution_count": 53,
   "id": "97ef8621",
   "metadata": {},
   "outputs": [
    {
     "name": "stdout",
     "output_type": "stream",
     "text": [
      "Python\n"
     ]
    }
   ],
   "source": [
    "text = \"Python Programming\"\n",
    "print(text[:6])"
   ]
  },
  {
   "cell_type": "code",
   "execution_count": 55,
   "id": "26f6c9a4",
   "metadata": {},
   "outputs": [
    {
     "name": "stdout",
     "output_type": "stream",
     "text": [
      "Python\n"
     ]
    }
   ],
   "source": [
    "text = \"Python Programming\"\n",
    "print(text.split()[0])"
   ]
  },
  {
   "cell_type": "code",
   "execution_count": 56,
   "id": "c2a175d7",
   "metadata": {},
   "outputs": [],
   "source": [
    "time = \"07:30\"\n",
    "hour = time[:2]\n",
    "hour = time.split(':')[0]"
   ]
  },
  {
   "cell_type": "markdown",
   "id": "993cd02d",
   "metadata": {},
   "source": [
    "### 7번 문제\n",
    "세 개의 숫자 중 가장 큰 수를 찾는 프로그램을 작성하세요."
   ]
  },
  {
   "cell_type": "code",
   "execution_count": null,
   "id": "ef281b68",
   "metadata": {},
   "outputs": [
    {
     "name": "stdout",
     "output_type": "stream",
     "text": [
      "3\n"
     ]
    }
   ],
   "source": [
    "a = int(input(\"첫 번째 숫자: \"))\n",
    "b = int(input(\"두 번째 숫자: \"))\n",
    "c = int(input(\"세 번째 숫자: \"))\n",
    "# nums = a, b, c\n",
    "print(max(a, b, c))\n"
   ]
  },
  {
   "cell_type": "markdown",
   "id": "92223519",
   "metadata": {},
   "source": [
    "### 8번 문제\n",
    "사용자의 나이를 입력받아 미성년자/성인을 판별하는 프로그램을 작성하세요."
   ]
  },
  {
   "cell_type": "code",
   "execution_count": 28,
   "id": "8f868b3a",
   "metadata": {},
   "outputs": [
    {
     "name": "stdout",
     "output_type": "stream",
     "text": [
      "성인\n"
     ]
    }
   ],
   "source": [
    "age = int(input(\"나이를 입력하세요: \"))\n",
    "print(\"성인\" if age >= 20 else \"미성년자\")"
   ]
  },
  {
   "cell_type": "markdown",
   "id": "be3bbbc0",
   "metadata": {},
   "source": [
    "### 9번 문제\n",
    "문자열을 입력받아 모든 문자를 대문자로 변환하여 출력하세요."
   ]
  },
  {
   "cell_type": "code",
   "execution_count": null,
   "id": "baee4c0e",
   "metadata": {},
   "outputs": [
    {
     "name": "stdout",
     "output_type": "stream",
     "text": [
      "JKLJ\n"
     ]
    }
   ],
   "source": [
    "text = input(\"문자열을 입력하세요: \")\n",
    "print(text.upper())"
   ]
  },
  {
   "cell_type": "code",
   "execution_count": 71,
   "id": "c96db769",
   "metadata": {},
   "outputs": [
    {
     "name": "stdout",
     "output_type": "stream",
     "text": [
      "97\n",
      "65\n",
      "98\n",
      "66\n",
      "APPLE\n"
     ]
    }
   ],
   "source": [
    "# [숙제] .upper 구현해보기\n",
    "\n",
    "print(ord(\"a\")) \n",
    "print(ord(\"A\"))\n",
    "\n",
    "print(ord(\"b\"))\n",
    "print(ord(\"B\"))\n",
    "\n",
    "# 소문자 - 32 == 대문자\n",
    "text = 'apple'\n",
    "upper_text = []\n",
    "\n",
    "for c in text:\n",
    "    code = ord(c)\n",
    "    upper_code = code - 32\n",
    "    upper_chr = chr(upper_code)\n",
    "    upper_text.append(upper_chr)\n",
    "\n",
    "print(''.join(upper_text))\n"
   ]
  },
  {
   "cell_type": "code",
   "execution_count": 70,
   "id": "5daaa453",
   "metadata": {},
   "outputs": [
    {
     "name": "stdout",
     "output_type": "stream",
     "text": [
      "APPLE\n"
     ]
    }
   ],
   "source": [
    "upper_text = [chr(ord(c) -32) for c in text]\n",
    "print(''.join(upper_text))"
   ]
  },
  {
   "cell_type": "markdown",
   "id": "1ca09f2e",
   "metadata": {},
   "source": [
    "### 10번 문제\n",
    "두 숫자의 차이의 절댓값을 구하는 프로그램을 작성하세요."
   ]
  },
  {
   "cell_type": "code",
   "execution_count": 35,
   "id": "c38a658e",
   "metadata": {},
   "outputs": [
    {
     "name": "stdout",
     "output_type": "stream",
     "text": [
      "1000\n"
     ]
    }
   ],
   "source": [
    "a = int(input(\"첫 번째 숫자: \"))\n",
    "b = int(input(\"두 번째 숫자: \"))\n",
    "print(abs(a - b))"
   ]
  }
 ],
 "metadata": {
  "kernelspec": {
   "display_name": "Python 3",
   "language": "python",
   "name": "python3"
  },
  "language_info": {
   "codemirror_mode": {
    "name": "ipython",
    "version": 3
   },
   "file_extension": ".py",
   "mimetype": "text/x-python",
   "name": "python",
   "nbconvert_exporter": "python",
   "pygments_lexer": "ipython3",
   "version": "3.13.2"
  }
 },
 "nbformat": 4,
 "nbformat_minor": 5
}
