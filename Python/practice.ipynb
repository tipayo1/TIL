{
 "cells": [
  {
   "cell_type": "code",
   "execution_count": null,
   "id": "0d6a616f",
   "metadata": {},
   "outputs": [],
   "source": []
  },
  {
   "cell_type": "code",
   "execution_count": null,
   "id": "f837ccf0",
   "metadata": {},
   "outputs": [],
   "source": [
    "# 113\n",
    "user = int(input())\n",
    "print('홀수' if user % 2 else '짝수')"
   ]
  },
  {
   "cell_type": "code",
   "execution_count": null,
   "id": "5398392e",
   "metadata": {},
   "outputs": [],
   "source": [
    "# 114\n",
    "user = int(input()) + 20\n",
    "print(user if user < 255 else 255)"
   ]
  },
  {
   "cell_type": "code",
   "execution_count": null,
   "id": "a96079f0",
   "metadata": {},
   "outputs": [],
   "source": [
    "# 115\n",
    "user = int(input()) - 20\n",
    "if user > 255:\n",
    "    answer = 255\n",
    "elif user < 0:\n",
    "    answer = 0\n",
    "else:\n",
    "    answer = user\n",
    "print(answer)"
   ]
  },
  {
   "cell_type": "code",
   "execution_count": null,
   "id": "a2a4347b",
   "metadata": {},
   "outputs": [],
   "source": [
    "# 116\n",
    "user = input()\n",
    "if user > 255:\n",
    "    answer = 255\n",
    "elif user < 0:\n",
    "    answer = 0\n",
    "else:\n",
    "    answer = user\n",
    "print(answer)"
   ]
  },
  {
   "cell_type": "code",
   "execution_count": 3,
   "id": "7a9ff7cb",
   "metadata": {},
   "outputs": [
    {
     "name": "stdout",
     "output_type": "stream",
     "text": [
      "10\n",
      "20\n",
      "30\n"
     ]
    }
   ],
   "source": [
    "# 136\n",
    "for _ in range(31)[10::10]:\n",
    "    print(_)"
   ]
  },
  {
   "cell_type": "code",
   "execution_count": 4,
   "id": "84081e10",
   "metadata": {},
   "outputs": [
    {
     "name": "stdout",
     "output_type": "stream",
     "text": [
      "110\n",
      "210\n",
      "310\n"
     ]
    }
   ],
   "source": [
    "# 141\n",
    "# 다음과 같이 판매가가 저장된 리스트가 있을 때 부가세가 포함된 가격을 for 문을 사용해서 화면에 출력하라. 단 부가세는 10원으로 가정한다.\n",
    "\n",
    "# 리스트 = [100, 200, 300]\n",
    "# 110\n",
    "# 210\n",
    "# 310\n",
    "\n",
    "list = [100, 200, 300]\n",
    "for i in list:\n",
    "    j = i + 10\n",
    "    print(j)\n",
    "\n"
   ]
  },
  {
   "cell_type": "code",
   "execution_count": 7,
   "id": "6521e115",
   "metadata": {},
   "outputs": [
    {
     "name": "stdout",
     "output_type": "stream",
     "text": [
      "오늘의 메뉴: 김밥\n",
      "오늘의 메뉴: 라면\n",
      "오늘의 메뉴: 튀김\n"
     ]
    }
   ],
   "source": [
    "# 142\n",
    "# for 문을 사용해서 리스트에 저장된 값을 다음과 같이 출력하라.\n",
    "\n",
    "list = [\"김밥\", \"라면\", \"튀김\"]\n",
    "# 오늘의 메뉴: 김밥\n",
    "# 오늘의 메뉴: 라면\n",
    "# 오늘의 메뉴: 튀김\n",
    "\n",
    "for i in list:\n",
    "    print(f'오늘의 메뉴: {i}')\n"
   ]
  },
  {
   "cell_type": "code",
   "execution_count": 8,
   "id": "3d913e4f",
   "metadata": {},
   "outputs": [
    {
     "name": "stdout",
     "output_type": "stream",
     "text": [
      "6\n",
      "4\n",
      "4\n"
     ]
    }
   ],
   "source": [
    "# 143\n",
    "# 리스트에 주식 종목이름이 저장돼 있다.\n",
    "\n",
    "list = [\"SK하이닉스\", \"삼성전자\", \"LG전자\"]\n",
    "# 저장된 문자열의 길이를 다음과 같이 출력하라.\n",
    "\n",
    "# 6\n",
    "# 4\n",
    "# 4\n",
    "for i in list:\n",
    "    print(len(i))"
   ]
  },
  {
   "cell_type": "code",
   "execution_count": 9,
   "id": "9f5690ec",
   "metadata": {},
   "outputs": [
    {
     "name": "stdout",
     "output_type": "stream",
     "text": [
      "dog 3\n",
      "cat 3\n",
      "parrot 6\n"
     ]
    }
   ],
   "source": [
    "# 144\n",
    "# 리스트에는 동물이름이 문자열로 저장돼 있다.\n",
    "\n",
    "list = ['dog', 'cat', 'parrot']\n",
    "# 동물 이름과 글자수를 다음과 같이 출력하라.\n",
    "\n",
    "# dog 3\n",
    "# cat 3\n",
    "# parrot 6\n",
    "for i in list:\n",
    "    print(i, len(i))"
   ]
  },
  {
   "cell_type": "code",
   "execution_count": 10,
   "id": "6fca5ca2",
   "metadata": {},
   "outputs": [
    {
     "name": "stdout",
     "output_type": "stream",
     "text": [
      "d\n",
      "c\n",
      "p\n"
     ]
    }
   ],
   "source": [
    "# 145\n",
    "# 리스트에 동물 이름 저장돼 있다.\n",
    "\n",
    "list = ['dog', 'cat', 'parrot']\n",
    "# for문을 사용해서 동물 이름의 첫 글자만 출력하라.\n",
    "\n",
    "# d\n",
    "# c\n",
    "# p\n",
    "for i in list:\n",
    "    print(i[0])"
   ]
  },
  {
   "cell_type": "code",
   "execution_count": 12,
   "id": "98e4b4cd",
   "metadata": {},
   "outputs": [
    {
     "name": "stdout",
     "output_type": "stream",
     "text": [
      "3 x 1\n",
      "3 x 2\n",
      "3 x 3\n"
     ]
    }
   ],
   "source": [
    "# 146\n",
    "# 리스트에는 세 개의 숫자가 바인딩돼 있다.\n",
    "\n",
    "list = [1, 2, 3]\n",
    "# for문을 사용해서 다음과 같이 출력하라.\n",
    "\n",
    "# 3 x 1\n",
    "# 3 x 2\n",
    "# 3 x 3\n",
    "# 정답확인\n",
    "for i in list:\n",
    "    print(f'3 x {i}')"
   ]
  },
  {
   "cell_type": "code",
   "execution_count": 13,
   "id": "ff467c6e",
   "metadata": {},
   "outputs": [
    {
     "name": "stdout",
     "output_type": "stream",
     "text": [
      "3 x 1 = 3\n",
      "3 x 2 = 6\n",
      "3 x 3 = 9\n"
     ]
    }
   ],
   "source": [
    "# 147\n",
    "# 리스트에는 세 개의 숫자가 바인딩돼 있다.\n",
    "\n",
    "list = [1, 2, 3]\n",
    "# for문을 사용해서 다음과 같이 출력하라.\n",
    "\n",
    "# 3 x 1 = 3\n",
    "# 3 x 2 = 6\n",
    "# 3 x 3 = 9\n",
    "for i in list:\n",
    "    print(f'3 x {i} = {3 * i}')"
   ]
  },
  {
   "cell_type": "code",
   "execution_count": 16,
   "id": "ad7adeb8",
   "metadata": {},
   "outputs": [
    {
     "name": "stdout",
     "output_type": "stream",
     "text": [
      "나\n",
      "다\n",
      "라\n"
     ]
    }
   ],
   "source": [
    "# 148\n",
    "# 리스트에는 네 개의 문자열이 바인딩돼 있다.\n",
    "\n",
    "list = [\"가\", \"나\", \"다\", \"라\"]\n",
    "# for문을 사용해서 다음과 같이 출력하라.\n",
    "\n",
    "# 나\n",
    "# 다\n",
    "# 라\n",
    "for i in list[1:]:\n",
    "    print(i)"
   ]
  },
  {
   "cell_type": "code",
   "execution_count": 17,
   "id": "c1163d52",
   "metadata": {},
   "outputs": [
    {
     "name": "stdout",
     "output_type": "stream",
     "text": [
      "가\n",
      "다\n"
     ]
    }
   ],
   "source": [
    "# 149\n",
    "# 리스트에는 네 개의 문자열이 바인딩돼 있다.\n",
    "\n",
    "list = [\"가\", \"나\", \"다\", \"라\"]\n",
    "# for문을 사용해서 다음과 같이 출력하라.\n",
    "\n",
    "# 가\n",
    "# 다\n",
    "for i in list[::2]:\n",
    "    print(i)"
   ]
  },
  {
   "cell_type": "code",
   "execution_count": 18,
   "id": "bc5a7c27",
   "metadata": {},
   "outputs": [
    {
     "name": "stdout",
     "output_type": "stream",
     "text": [
      "라\n",
      "다\n",
      "나\n",
      "가\n"
     ]
    }
   ],
   "source": [
    "# 150\n",
    "# 리스트에는 네 개의 문자열이 바인딩돼 있다.\n",
    "\n",
    "list = [\"가\", \"나\", \"다\", \"라\"]\n",
    "# for문을 사용해서 다음과 같이 출력하라.\n",
    "\n",
    "# 라\n",
    "# 다\n",
    "# 나\n",
    "# 가\n",
    "for i in list[::-1]:\n",
    "    print(i)"
   ]
  },
  {
   "cell_type": "code",
   "execution_count": null,
   "id": "d135acae",
   "metadata": {},
   "outputs": [],
   "source": [
    "# 172\n",
    "# 아래와 같이 리스트의 데이터를 출력하라. 단, for문과 range문을 사용하라.\n",
    "\n",
    "price_list = [32100, 32150, 32000, 32500]\n",
    "# 0 32100\n",
    "# 1 32150\n",
    "# 2 32000\n",
    "# 3 32500\n",
    "\n",
    "\n",
    "for i, data in enumerate(price_list): \n",
    "    print(i, data)"
   ]
  },
  {
   "cell_type": "code",
   "execution_count": 10,
   "id": "fedf4c06",
   "metadata": {},
   "outputs": [
    {
     "name": "stdout",
     "output_type": "stream",
     "text": [
      "100 32150\n",
      "110 32000\n",
      "120 32500\n"
     ]
    }
   ],
   "source": [
    "# 174\n",
    "# 아래와 같이 리스트의 데이터를 출력하라. 단, for문과 range문을 사용하라.\n",
    "\n",
    "price_list = [32100, 32150, 32000, 32500]\n",
    "\n",
    "for i in range(1, 4):\n",
    "    print(90 + i * 10, price_list[i])\n",
    "\n",
    "# 100 32150\n",
    "# 110 32000\n",
    "# 120 32500"
   ]
  },
  {
   "cell_type": "code",
   "execution_count": 12,
   "id": "d17ae413",
   "metadata": {},
   "outputs": [
    {
     "name": "stdout",
     "output_type": "stream",
     "text": [
      "가 나\n",
      "나 다\n",
      "다 라\n"
     ]
    }
   ],
   "source": [
    "# 175\n",
    "# my_list를 아래와 같이 출력하라.\n",
    "\n",
    "\n",
    "my_list = [\"가\", \"나\", \"다\", \"라\"]\n",
    "# 가 나\n",
    "# 나 다\n",
    "# 다 라\n",
    "\n",
    "for i in range(len(my_list) - 1):\n",
    "    print(my_list[i], my_list[i+1])"
   ]
  },
  {
   "cell_type": "code",
   "execution_count": 13,
   "id": "e2cda1d1",
   "metadata": {},
   "outputs": [
    {
     "name": "stdout",
     "output_type": "stream",
     "text": [
      "가 나 다\n",
      "나 다 라\n",
      "다 라 마\n"
     ]
    }
   ],
   "source": [
    "# 176\n",
    "# 리스트를 아래와 같이 출력하라.\n",
    "\n",
    "my_list = [\"가\", \"나\", \"다\", \"라\", \"마\"]\n",
    "\n",
    "for i in range(len(my_list) - 2):\n",
    "    print(my_list[i], my_list[i+1], my_list[i+2])\n",
    "# 가 나 다\n",
    "# 나 다 라\n",
    "# 다 라 마"
   ]
  },
  {
   "cell_type": "code",
   "execution_count": 15,
   "id": "15df76ad",
   "metadata": {},
   "outputs": [
    {
     "name": "stdout",
     "output_type": "stream",
     "text": [
      "100\n",
      "200\n",
      "400\n"
     ]
    }
   ],
   "source": [
    "# 178\n",
    "# 리스트에는 네 개의 정수가 저장되어 있다. 각각의 데이터에 대해서 자신과 우측값과의 차분값을 화면에 출력하라.\n",
    "\n",
    "my_list = [100, 200, 400, 800]\n",
    "for i in range(len(my_list) - 1):\n",
    "    print(my_list[i+1] - my_list[i])\n",
    "\n",
    "# 예를들어 100을 기준으로 우측에 위치한 200과의 차분 값를 화면에 출력하고, 200을 기준으로 우측에 위치한 400과의 차분값을 화면에 출력한다. 이어서 400을 기준으로 우측에 위치한 800과의 차분값을 화면에 출력한다.\n",
    "\n",
    "# 100\n",
    "# 200\n",
    "# 400"
   ]
  },
  {
   "cell_type": "code",
   "execution_count": null,
   "id": "70747faf",
   "metadata": {},
   "outputs": [
    {
     "name": "stdout",
     "output_type": "stream",
     "text": [
      "233.33333333333334\n",
      "466.6666666666667\n",
      "733.3333333333334\n",
      "1033.3333333333333\n"
     ]
    }
   ],
   "source": [
    "# 179\n",
    "# 리스트에는 6일 간의 종가 데이터가 저장되어 있다. 종가 데이터의 3일 이동 평균을 계산하고 이를 화면에 출력하라.\n",
    "\n",
    "my_list = [100, 200, 400, 800, 1000, 1300]\n",
    "for i in range(len(my_list) - 2):\n",
    "    print((my_list[i] + my_list[i+1] + my_list[i+2]) / 3)\n",
    "# 첫 번째 줄에는 100, 200, 400의 평균값이 출력된다. 두 번째 줄에는 200, 400, 800의 평균값이 출력된다. 같은 방식으로 나머지 데이터의 평균을 출력한다.\n",
    "\n",
    "# 233.33333333333334\n",
    "# 466.6666666666667\n",
    "# 733.3333333333334\n",
    "# 1033.3333333333333"
   ]
  },
  {
   "cell_type": "code",
   "execution_count": 18,
   "id": "ed1636dd",
   "metadata": {},
   "outputs": [
    {
     "name": "stdout",
     "output_type": "stream",
     "text": [
      "[50, 100, 30, 80, 0]\n"
     ]
    }
   ],
   "source": [
    "# 180\n",
    "# 리스트에 5일간의 저가, 고가 정보가 저장돼 있다. 고가와 저가의 차를 변동폭이라고 정의할 때, low, high 두 개의 리스트를 사용해서 5일간의 변동폭을 volatility 리스트에 저장하라.\n",
    "\n",
    "low_prices  = [100, 200, 400, 800, 1000]\n",
    "high_prices = [150, 300, 430, 880, 1000]\n",
    "volatility = []\n",
    "for i in range(len(low_prices)):\n",
    "    volatility.append(high_prices[i] - low_prices[i])\n",
    "print(volatility)    "
   ]
  },
  {
   "cell_type": "code",
   "execution_count": 22,
   "id": "9a73685a",
   "metadata": {},
   "outputs": [
    {
     "name": "stdout",
     "output_type": "stream",
     "text": [
      "101\n",
      "102\n",
      "201\n",
      "202\n",
      "301\n",
      "302\n"
     ]
    }
   ],
   "source": [
    "# 185\n",
    "# 리스트에 저장된 데이터를 아래와 같이 출력하라.\n",
    "\n",
    "apart = [ [101, 102], [201, 202], [301, 302] ]\n",
    "for i in apart:\n",
    "    # print(i)\n",
    "    for j in i:\n",
    "        print(j)\n",
    "# 102 호\n",
    "# 201 호\n",
    "# 202 호\n",
    "# 301 호\n",
    "# 302 호"
   ]
  },
  {
   "cell_type": "code",
   "execution_count": 23,
   "id": "31b9cb48",
   "metadata": {},
   "outputs": [
    {
     "name": "stdout",
     "output_type": "stream",
     "text": [
      "302\n",
      "301\n",
      "202\n",
      "201\n",
      "102\n",
      "101\n"
     ]
    }
   ],
   "source": [
    "# 187\n",
    "# 리스트에 저장된 데이터를 아래와 같이 출력하라.\n",
    "\n",
    "apart = [ [101, 102], [201, 202], [301, 302] ]\n",
    "for i in apart[::-1]:\n",
    "    # print(i)\n",
    "    for j in i[::-1]:\n",
    "        print(j)\n",
    "# 302 호\n",
    "# 301 호\n",
    "# 202 호\n",
    "# 201 호\n",
    "# 102 호\n",
    "# 101 호"
   ]
  },
  {
   "cell_type": "code",
   "execution_count": null,
   "id": "4ee3215a",
   "metadata": {},
   "outputs": [
    {
     "name": "stdout",
     "output_type": "stream",
     "text": [
      "101 호\n",
      "-----\n",
      "102 호\n",
      "-----\n",
      "201 호\n",
      "-----\n",
      "202 호\n",
      "-----\n",
      "301 호\n",
      "-----\n",
      "302 호\n",
      "-----\n"
     ]
    }
   ],
   "source": [
    "# 188\n",
    "# 리스트에 저장된 데이터를 아래와 같이 출력하라.\n",
    "\n",
    "apart = [ [101, 102], [201, 202], [301, 302] ]\n",
    "for i in apart[::-1]:\n",
    "    # print(i)\n",
    "    for j in i[::-1]:\n",
    "        print(j, '호')\n",
    "        print('-----')\n",
    "# 101 호\n",
    "# -----\n",
    "# 102 호\n",
    "# -----\n",
    "# 201 호\n",
    "# -----\n",
    "# 202 호\n",
    "# -----\n",
    "# 301 호\n",
    "# -----\n",
    "# 302 호\n",
    "# -----"
   ]
  },
  {
   "cell_type": "code",
   "execution_count": 30,
   "id": "cda70be9",
   "metadata": {},
   "outputs": [
    {
     "name": "stdout",
     "output_type": "stream",
     "text": [
      "101 호\n",
      "102 호\n",
      "-----\n",
      "201 호\n",
      "202 호\n",
      "-----\n",
      "301 호\n",
      "302 호\n",
      "-----\n"
     ]
    }
   ],
   "source": [
    "# 189\n",
    "# 리스트에 저장된 데이터를 아래와 같이 출력하라.\n",
    "\n",
    "apart = [ [101, 102], [201, 202], [301, 302] ]\n",
    "\n",
    "for i in apart:\n",
    "    \n",
    "    for j in i:\n",
    "        print(j, '호')\n",
    "    print('-----')\n",
    "        \n",
    "\n",
    "# 101 호\n",
    "# 102 호\n",
    "# -----\n",
    "# 201 호\n",
    "# 202 호\n",
    "# -----\n",
    "# 301 호\n",
    "# 302 호\n",
    "# -----"
   ]
  },
  {
   "cell_type": "code",
   "execution_count": 54,
   "id": "524f7e27",
   "metadata": {},
   "outputs": [
    {
     "name": "stdout",
     "output_type": "stream",
     "text": [
      "2000.28\n",
      "3050.427\n",
      "2050.2870000000003\n",
      "1980.2772\n",
      "7501.05\n",
      "2050.2870000000003\n",
      "2050.2870000000003\n",
      "1980.2772\n",
      "15452.163\n",
      "15052.107\n",
      "15552.177\n",
      "14902.086000000001\n"
     ]
    }
   ],
   "source": [
    "# 191\n",
    "# data에는 매수한 종목들의 OHLC (open/high/low/close) 가격 정보가 바인딩 되어있다.\n",
    "\n",
    "data = [\n",
    "    [ 2000,  3050,  2050,  1980],\n",
    "    [ 7500,  2050,  2050,  1980],\n",
    "    [15450, 15050, 15550, 14900]\n",
    "]\n",
    "# 내풀이\n",
    "# for i in data:\n",
    "#     for j in i:\n",
    "#         su = j + (j * 0.00014)\n",
    "#         print(su)\n",
    "\n",
    "# 정답\n",
    "for line in data:\n",
    "    for column in line:\n",
    "        print(column * 1.00014)\n",
    "\n",
    "# 수수료를 0.014 %로 가정할 때, 각 가격에 수수료를 포함한 가격을 한라인에 하나씩 출력하라.\n",
    "\n",
    "# 2000.28\n",
    "# 3050.427\n",
    "# 2050.2870000000003\n",
    "# ..."
   ]
  },
  {
   "cell_type": "code",
   "execution_count": 40,
   "id": "6fec6a41",
   "metadata": {},
   "outputs": [
    {
     "name": "stdout",
     "output_type": "stream",
     "text": [
      "2000.28\n",
      "3050.427\n",
      "2050.2870000000003\n",
      "1980.2772\n",
      "----\n",
      "7501.05\n",
      "2050.2870000000003\n",
      "2050.2870000000003\n",
      "1980.2772\n",
      "----\n",
      "15452.163\n",
      "15052.107\n",
      "15552.177\n",
      "14902.086000000001\n",
      "----\n"
     ]
    }
   ],
   "source": [
    "# 192\n",
    "# 191번의 출력 결과에 행단위로 \"----\" 구분자를 추가하라.\n",
    "for line in data:\n",
    "    for column in line:\n",
    "        print(column * 1.00014)\n",
    "    print('-' * 4)\n",
    "# 2000.28\n",
    "# 3050.427\n",
    "# 2050.2870000000003\n",
    "# 1980.2772\n",
    "# ----\n",
    "# 7501.05\n",
    "# 2050.2870000000003\n",
    "# 2050.2870000000003\n",
    "# 1980.2772\n",
    "# ----\n",
    "# 15452.163\n",
    "# 15052.107\n",
    "# 15552.177\n",
    "# 14902.086000000001\n",
    "# ----"
   ]
  },
  {
   "cell_type": "code",
   "execution_count": null,
   "id": "9ca88e75",
   "metadata": {},
   "outputs": [
    {
     "name": "stdout",
     "output_type": "stream",
     "text": [
      "[2000.28, 3050.427, 2050.2870000000003, 1980.2772, 7501.05, 2050.2870000000003, 2050.2870000000003, 1980.2772, 15452.163, 15052.107, 15552.177, 14902.086000000001]\n"
     ]
    }
   ],
   "source": [
    "# 193\n",
    "# 192 번 문제의 결괏값을 result 이름의 리스트에 1차원 배열로 저장하라.\n",
    "result = []\n",
    "for line in data:\n",
    "    for column in line:\n",
    "        result.append(column * 1.00014)\n",
    "\n",
    "print(result)\n",
    "# >> print(result)\n",
    "# [2000.28, 3050.427, 2050.2870000000003, 1980.2772, 7501.05, 2050.2870000000003, 2050.2870000000003, ...]\n",
    "# 정답확인\n",
    "# result = []\n",
    "# for line in data:\n",
    "#     for column in line:\n",
    "#         result.append(column * 1.00014)\n",
    "# print(result)"
   ]
  },
  {
   "cell_type": "code",
   "execution_count": null,
   "id": "8ec7a1c1",
   "metadata": {},
   "outputs": [
    {
     "name": "stdout",
     "output_type": "stream",
     "text": [
      "[2000.28]\n",
      "[2000.28, 3050.427]\n",
      "[2000.28, 3050.427, 2050.2870000000003]\n",
      "[2000.28, 3050.427, 2050.2870000000003, 1980.2772]\n",
      "[7501.05]\n",
      "[7501.05, 2050.2870000000003]\n",
      "[7501.05, 2050.2870000000003, 2050.2870000000003]\n",
      "[7501.05, 2050.2870000000003, 2050.2870000000003, 1980.2772]\n",
      "[15452.163]\n",
      "[15452.163, 15052.107]\n",
      "[15452.163, 15052.107, 15552.177]\n",
      "[15452.163, 15052.107, 15552.177, 14902.086000000001]\n"
     ]
    }
   ],
   "source": [
    "# 194 ### 모르겠음 강사님께 물어보자\n",
    "# 191번 문제의 결괏값을 result 이름의 리스트에 2차원 배열로 저장하라. 저장 포맷은 아래와 같다. 각 행에 대한 데이터끼리 리스트에 저장되어야 한다.\n",
    "\n",
    "# >> print(result)\n",
    "# [\n",
    "#  [2000.28, 3050.427, 2050.2870000000003, 1980.2772],\n",
    "#  [7501.05, 2050.2870000000003, 2050.2870000000003, 1980.2772],\n",
    "#  [15452.163, 15052.107, 15552.177, 14902.086000000001]\n",
    "# ]\n",
    "\n",
    "\n",
    "result = []\n",
    "\n",
    "for line in data:\n",
    "    sub = []\n",
    "    for column in line:\n",
    "        sub.append(column * 1.00014)\n",
    "        print(sub)\n",
    "    result.append(sub)\n",
    "print(result)\n"
   ]
  },
  {
   "cell_type": "code",
   "execution_count": 57,
   "id": "c8c6c1e2",
   "metadata": {},
   "outputs": [
    {
     "name": "stdout",
     "output_type": "stream",
     "text": [
      "100\n",
      "190\n",
      "310\n"
     ]
    }
   ],
   "source": [
    "# 195\n",
    "# ohlc 리스트에는 시가(open), 고가 (high), 저가 (low) , 종가(close)가 날짜별로 저장돼 있다. 화면에 종가데이터를 출력하라.\n",
    "\n",
    "ohlc = [[\"open\", \"high\", \"low\", \"close\"],\n",
    "        [100, 110, 70, 100],\n",
    "        [200, 210, 180, 190],\n",
    "        [300, 310, 300, 310]]\n",
    "\n",
    "for i in ohlc[1:]:\n",
    "    print(i[-1])\n",
    "# 100\n",
    "# 190\n",
    "# 310"
   ]
  },
  {
   "cell_type": "code",
   "execution_count": 58,
   "id": "6737a7e7",
   "metadata": {},
   "outputs": [
    {
     "name": "stdout",
     "output_type": "stream",
     "text": [
      "190\n",
      "310\n"
     ]
    }
   ],
   "source": [
    "# 196\n",
    "# ohlc 리스트에는 시가(open), 고가 (high), 저가 (low) , 종가(close)가 날짜별로 저장돼 있다. 종가가 150원보다 큰경우에만 종가를 출력하라.\n",
    "\n",
    "ohlc = [[\"open\", \"high\", \"low\", \"close\"],\n",
    "        [100, 110, 70, 100],\n",
    "        [200, 210, 180, 190],\n",
    "        [300, 310, 300, 310]]\n",
    "for i in ohlc[1:]:\n",
    "    if i[-1] > 150:\n",
    "        print(i[-1])\n",
    "# 190\n",
    "# 310"
   ]
  },
  {
   "cell_type": "code",
   "execution_count": 60,
   "id": "4f6535ee",
   "metadata": {},
   "outputs": [
    {
     "name": "stdout",
     "output_type": "stream",
     "text": [
      "100\n",
      "310\n"
     ]
    }
   ],
   "source": [
    "# 197\n",
    "# ohlc 리스트에는 시가(open), 고가 (high), 저가 (low) , 종가(close)가 날짜별로 저장돼 있다. 종가가 시가 보다 크거나 같은 경우에만 종가를 출력하라.\n",
    "\n",
    "ohlc = [[\"open\", \"high\", \"low\", \"close\"],\n",
    "        [100, 110, 70, 100],\n",
    "        [200, 210, 180, 190],\n",
    "        [300, 310, 300, 310]]\n",
    "for i in ohlc[1:]:\n",
    "    if i[-1] >= i[0]:\n",
    "        print(i[-1])\n",
    "# 100\n",
    "# 310"
   ]
  },
  {
   "cell_type": "code",
   "execution_count": 67,
   "id": "e7ca8b5c",
   "metadata": {},
   "outputs": [
    {
     "name": "stdout",
     "output_type": "stream",
     "text": [
      "[40, 30, 10]\n"
     ]
    }
   ],
   "source": [
    "198\n",
    "# ohlc 리스트에는 시가(open), 고가 (high), 저가 (low) , 종가(close)가 날짜별로 저장돼 있다. 고가와 저가의 차이를 변동폭으로 정의할 때 변동폭을 volatility 이름의 리스트에 저장하라.\n",
    "\n",
    "ohlc = [[\"open\", \"high\", \"low\", \"close\"],\n",
    "        [100, 110, 70, 100],\n",
    "        [200, 210, 180, 190],\n",
    "        [300, 310, 300, 310]]\n",
    "\n",
    "volatility = []\n",
    "\n",
    "for i in ohlc[1:]:\n",
    "    diff = i[1] - i[2]\n",
    "    volatility.append(diff)\n",
    "print(volatility)\n",
    "# >> print(volatility)\n",
    "# [40, 30, 10]"
   ]
  },
  {
   "cell_type": "code",
   "execution_count": 68,
   "id": "c0909cbd",
   "metadata": {},
   "outputs": [
    {
     "name": "stdout",
     "output_type": "stream",
     "text": [
      "[40, 30, 10]\n"
     ]
    }
   ],
   "source": [
    "volatility = []\n",
    "\n",
    "for i in ohlc[1:]:    \n",
    "    volatility.append(i[1] - i[2])\n",
    "print(volatility)"
   ]
  },
  {
   "cell_type": "code",
   "execution_count": 69,
   "id": "0c02d100",
   "metadata": {},
   "outputs": [
    {
     "name": "stdout",
     "output_type": "stream",
     "text": [
      "[40, 30, 10]\n"
     ]
    }
   ],
   "source": [
    "volatility = [i[1] - i[2] for i in ohlc[1:]]\n",
    "print(volatility)"
   ]
  },
  {
   "cell_type": "code",
   "execution_count": 71,
   "id": "546a0877",
   "metadata": {},
   "outputs": [
    {
     "name": "stdout",
     "output_type": "stream",
     "text": [
      "[10]\n"
     ]
    }
   ],
   "source": [
    "# 199\n",
    "# 리스트에는 3일 간의 ohlc 데이터가 저장돼 있다. 종가가 시가보다 높은 날의 변동성 (고가 - 저가)을 화면에 출력하라.\n",
    "\n",
    "ohlc = [[\"open\", \"high\", \"low\", \"close\"],\n",
    "        [100, 110, 70, 100],\n",
    "        [200, 210, 180, 190],\n",
    "        [300, 310, 300, 310]]\n",
    "\n",
    "diff = [i[1] - i[2] for i in ohlc[1:] if i[-1] > i[0]]\n",
    "print(diff)\n",
    "# 종가가 시가보다 높은 거래일의 OHLC는 [300, 310, 300, 310] 이다. 따라서 이 거래일의 변동성은 10 (310 - 300)이다.\n",
    "\n",
    "# 10"
   ]
  },
  {
   "cell_type": "code",
   "execution_count": 73,
   "id": "5d8aa93c",
   "metadata": {},
   "outputs": [
    {
     "name": "stdout",
     "output_type": "stream",
     "text": [
      "0\n"
     ]
    }
   ],
   "source": [
    "# 200\n",
    "# 리스트에는 3일 간의 ohlc 데이터가 저장돼 있다. 시가에 매수해서 종가에 매도 했을 경우 총 수익금을 계산하라.\n",
    "\n",
    "ohlc = [[\"open\", \"high\", \"low\", \"close\"],\n",
    "        [100, 110, 70, 100],\n",
    "        [200, 210, 180, 190],\n",
    "        [300, 310, 300, 310]]\n",
    "\n",
    "\n",
    "profits = sum([i[-1] - i[0] for i in ohlc[1:]])\n",
    "print(profits)\n",
    "# 1일차 수익 0원 (100 - 100), 2일차 수익 -10원 (190 - 200), 3일차 수익 10원 (310 - 300) 이다.\n",
    "\n",
    "# 0"
   ]
  },
  {
   "cell_type": "code",
   "execution_count": 1,
   "id": "eb8ab6f2",
   "metadata": {},
   "outputs": [
    {
     "data": {
      "text/plain": [
       "6"
      ]
     },
     "execution_count": 1,
     "metadata": {},
     "output_type": "execute_result"
    }
   ],
   "source": [
    "def solution(number):\n",
    "    answer = 0\n",
    "    divisors = []\n",
    "    for i in range(1, number + 1):\n",
    "        if number % i == 0:\n",
    "            divisors.append(i)\n",
    "    return sum(divisors)\n",
    "\n",
    "solution(5)"
   ]
  }
 ],
 "metadata": {
  "kernelspec": {
   "display_name": "Python 3",
   "language": "python",
   "name": "python3"
  },
  "language_info": {
   "codemirror_mode": {
    "name": "ipython",
    "version": 3
   },
   "file_extension": ".py",
   "mimetype": "text/x-python",
   "name": "python",
   "nbconvert_exporter": "python",
   "pygments_lexer": "ipython3",
   "version": "3.13.2"
  }
 },
 "nbformat": 4,
 "nbformat_minor": 5
}
