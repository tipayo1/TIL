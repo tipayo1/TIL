{
 "cells": [
  {
   "cell_type": "code",
   "execution_count": null,
   "id": "26e7fb03",
   "metadata": {},
   "outputs": [],
   "source": [
    "telegram.ipynb"
   ]
  },
  {
   "cell_type": "code",
   "execution_count": null,
   "id": "4ff5a915",
   "metadata": {},
   "outputs": [],
   "source": [
    "from dotenv import load_dotenv\n",
    "import os\n",
    "\n",
    "load_dotenv()\n",
    "# Bot 의 주민번호. 이게 있어야 어떤 봇을 컨트롤 하는지 알 수 있다.\n",
    "bot_token = os.getenv('TELEGRAM_BOT_TOKEN')"
   ]
  },
  {
   "cell_type": "code",
   "execution_count": null,
   "id": "a7931439",
   "metadata": {},
   "outputs": [],
   "source": [
    "# 고정된 URL. 뒤에 붙는 말에따라 다른 요청이 됨\n",
    "URL = f'https://api.telegram.org/bot{bot_token}'"
   ]
  },
  {
   "cell_type": "code",
   "execution_count": 8,
   "id": "d19d42f6",
   "metadata": {},
   "outputs": [
    {
     "data": {
      "text/plain": [
       "'https://api.telegram.org/bot8487628494:AAF1xGePlkpepFsajLePgZ03YYwAYCU-e9Q/getMe'"
      ]
     },
     "execution_count": 8,
     "metadata": {},
     "output_type": "execute_result"
    }
   ],
   "source": [
    "# Bot 에 대한 정보\n",
    "URL + '/getMe'"
   ]
  },
  {
   "cell_type": "code",
   "execution_count": 9,
   "id": "444d3e4d",
   "metadata": {},
   "outputs": [
    {
     "data": {
      "text/plain": [
       "'https://api.telegram.org/bot8487628494:AAF1xGePlkpepFsajLePgZ03YYwAYCU-e9Q/getUpdates'"
      ]
     },
     "execution_count": 9,
     "metadata": {},
     "output_type": "execute_result"
    }
   ],
   "source": [
    "# 봇의 모든 업데이트\n",
    "URL + '/getUpdates'"
   ]
  },
  {
   "cell_type": "code",
   "execution_count": 15,
   "id": "2c0d7a57",
   "metadata": {},
   "outputs": [
    {
     "name": "stdout",
     "output_type": "stream",
     "text": [
      "https://api.telegram.org/bot8487628494:AAF1xGePlkpepFsajLePgZ03YYwAYCU-e9Q/sendMessage\n"
     ]
    }
   ],
   "source": [
    "# 답장을 위한 상대방 id\n",
    "my_id = '8469805461'\n",
    "# 메세지\n",
    "message = '응애봇'\n",
    "\n",
    "# ? -> 내가 바꿀 수 있는 부분 (이제부터 내가 원하는걸 보낼꺼야)\n",
    "# & -> 이어붙이기\n",
    "print(URL + '/sendMessage')"
   ]
  },
  {
   "cell_type": "code",
   "execution_count": 74,
   "id": "09ccef72",
   "metadata": {},
   "outputs": [],
   "source": [
    "# 트루 폴스 앞 소문자만 대문자로 바꿔주기\n",
    "\n",
    "data = {\n",
    "    \"ok\": True,\n",
    "    \"result\": [\n",
    "        {\n",
    "            \"update_id\": 274512681,\n",
    "            \"message\": {\n",
    "                \"message_id\": 3,\n",
    "                \"from\": {\n",
    "                    \"id\": 8469805461,\n",
    "                    \"is_bot\": False,\n",
    "                    \"first_name\": \"pangyi\",\n",
    "                    \"language_code\": \"ko\"\n",
    "                },\n",
    "                \"chat\": {\n",
    "                    \"id\": 8469805461,\n",
    "                    \"first_name\": \"pangyi\",\n",
    "                    \"type\": \"private\"\n",
    "                },\n",
    "                \"date\": 1753323133,\n",
    "                \"text\": \"/기능\"\n",
    "            }\n",
    "        },\n",
    "        {\n",
    "            \"update_id\": 274512682,\n",
    "            \"message\": {\n",
    "                \"message_id\": 4,\n",
    "                \"from\": {\n",
    "                    \"id\": 8469805461,\n",
    "                    \"is_bot\": False,\n",
    "                    \"first_name\": \"pangyi\",\n",
    "                    \"language_code\": \"ko\"\n",
    "                },\n",
    "                \"chat\": {\n",
    "                    \"id\": 8469805461,\n",
    "                    \"first_name\": \"pangyi\",\n",
    "                    \"type\": \"private\"\n",
    "                },\n",
    "                \"date\": 1753323139,\n",
    "                \"text\": \"/option\",\n",
    "                \"entities\": [\n",
    "                    {\n",
    "                        \"offset\": 0,\n",
    "                        \"length\": 7,\n",
    "                        \"type\": \"bot_command\"\n",
    "                    }\n",
    "                ]\n",
    "            }\n",
    "        },\n",
    "        {\n",
    "            \"update_id\": 274512683,\n",
    "            \"message\": {\n",
    "                \"message_id\": 5,\n",
    "                \"from\": {\n",
    "                    \"id\": 8469805461,\n",
    "                    \"is_bot\": False,\n",
    "                    \"first_name\": \"pangyi\",\n",
    "                    \"language_code\": \"ko\"\n",
    "                },\n",
    "                \"chat\": {\n",
    "                    \"id\": 8469805461,\n",
    "                    \"first_name\": \"pangyi\",\n",
    "                    \"type\": \"private\"\n",
    "                },\n",
    "                \"date\": 1753323541,\n",
    "                \"text\": \"/help\",\n",
    "                \"entities\": [\n",
    "                    {\n",
    "                        \"offset\": 0,\n",
    "                        \"length\": 5,\n",
    "                        \"type\": \"bot_command\"\n",
    "                    }\n",
    "                ]\n",
    "            }\n",
    "        },\n",
    "        {\n",
    "            \"update_id\": 274512684,\n",
    "            \"message\": {\n",
    "                \"message_id\": 10,\n",
    "                \"from\": {\n",
    "                    \"id\": 8469805461,\n",
    "                    \"is_bot\": False,\n",
    "                    \"first_name\": \"pangyi\",\n",
    "                    \"language_code\": \"ko\"\n",
    "                },\n",
    "                \"chat\": {\n",
    "                    \"id\": 8469805461,\n",
    "                    \"first_name\": \"pangyi\",\n",
    "                    \"type\": \"private\"\n",
    "                },\n",
    "                \"date\": 1753330825,\n",
    "                \"text\": \"로또\"\n",
    "            }\n",
    "        }\n",
    "    ]\n",
    "}"
   ]
  },
  {
   "cell_type": "code",
   "execution_count": 75,
   "id": "9496301f",
   "metadata": {},
   "outputs": [
    {
     "name": "stdout",
     "output_type": "stream",
     "text": [
      "로또 8469805461\n"
     ]
    }
   ],
   "source": [
    "# 봇 업데이트 받아서, 마지막 메시지 & 유저 id 받아오기\n",
    "\n",
    "import requests\n",
    "# /getUpdates 로 요청 보내고 -> 응답 JSON 받아서 저장 (실행할때마다 갱신)\n",
    "data = requests.get(URL + '/getUpdates').json()\n",
    "\n",
    "# 데이터 안에 마지막 메시지의 text(내용)을 뽑아라\n",
    "input_msg = data[\"result\"][-1][\"message\"][\"text\"]\n",
    "# 마지막 메시지의 보낸사람 id 뽑기\n",
    "sender_id = data[\"result\"][-1][\"message\"][\"from\"][\"id\"]\n",
    "print(input_msg, sender_id)"
   ]
  },
  {
   "cell_type": "code",
   "execution_count": 76,
   "id": "48bebc88",
   "metadata": {},
   "outputs": [],
   "source": [
    "import random\n",
    "# 메세지가 '로또'면, 로또번호 6개 만들어서 보내기\n",
    "if input_msg in ('로또', 'lotto', '가즈아'):\n",
    "    output_msg = str(random.sample(range(1, 46), 6))\n",
    "elif input_msg == '안녕':\n",
    "    output_msg = '오냐'\n",
    "else:\n",
    "    output_msg = '아직은 그런건 몰루'"
   ]
  },
  {
   "cell_type": "code",
   "execution_count": null,
   "id": "6e452713",
   "metadata": {},
   "outputs": [
    {
     "data": {
      "text/plain": [
       "{'ok': True,\n",
       " 'result': {'message_id': 30,\n",
       "  'from': {'id': 8487628494,\n",
       "   'is_bot': True,\n",
       "   'first_name': 'som',\n",
       "   'username': 'pangyisombot'},\n",
       "  'chat': {'id': 8469805461, 'first_name': 'pangyi', 'type': 'private'},\n",
       "  'date': 1753337455,\n",
       "  'text': '[24, 35, 10, 27, 38, 21]'}}"
      ]
     },
     "execution_count": 77,
     "metadata": {},
     "output_type": "execute_result"
    }
   ],
   "source": [
    "# 메세지 만들어서 전송\n",
    "body = {\n",
    "    # 누구한테\n",
    "    'chat_id': sender_id,\n",
    "    # 답변메세지\n",
    "    'text': output_msg, \n",
    "}\n",
    "# 전송\n",
    "requests.get(URL + '/sendMessage', body).json()"
   ]
  },
  {
   "cell_type": "code",
   "execution_count": 45,
   "id": "6fb36032",
   "metadata": {},
   "outputs": [
    {
     "data": {
      "text/plain": [
       "{'ok': True,\n",
       " 'result': {'message_id': 15,\n",
       "  'from': {'id': 8487628494,\n",
       "   'is_bot': True,\n",
       "   'first_name': 'som',\n",
       "   'username': 'pangyisombot'},\n",
       "  'chat': {'id': 8469805461, 'first_name': 'pangyi', 'type': 'private'},\n",
       "  'date': 1753333884,\n",
       "  'text': '따라해봐라'}}"
      ]
     },
     "execution_count": 45,
     "metadata": {},
     "output_type": "execute_result"
    }
   ],
   "source": [
    "# 메세지 만들어서 전송\n",
    "body = {\n",
    "    'chat_id': last_chat_id,\n",
    "    'text': last_text,\n",
    "}\n",
    "requests.get(URL + '/sendMessage', body).json()\n"
   ]
  },
  {
   "cell_type": "code",
   "execution_count": null,
   "id": "ef4ed802",
   "metadata": {},
   "outputs": [],
   "source": []
  }
 ],
 "metadata": {
  "kernelspec": {
   "display_name": "Python 3",
   "language": "python",
   "name": "python3"
  },
  "language_info": {
   "codemirror_mode": {
    "name": "ipython",
    "version": 3
   },
   "file_extension": ".py",
   "mimetype": "text/x-python",
   "name": "python",
   "nbconvert_exporter": "python",
   "pygments_lexer": "ipython3",
   "version": "3.13.2"
  }
 },
 "nbformat": 4,
 "nbformat_minor": 5
}
