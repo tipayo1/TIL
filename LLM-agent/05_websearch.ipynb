{
 "cells": [
  {
   "cell_type": "markdown",
   "id": "3f4c1aa4",
   "metadata": {},
   "source": [
    "# Tavily Web Search\n",
    "- LLM에게 웹 검색을 쥐어주ㅏ"
   ]
  },
  {
   "cell_type": "code",
   "execution_count": 1,
   "id": "8853550f",
   "metadata": {},
   "outputs": [
    {
     "name": "stdout",
     "output_type": "stream",
     "text": [
      "Note: you may need to restart the kernel to use updated packages.\n"
     ]
    },
    {
     "name": "stderr",
     "output_type": "stream",
     "text": [
      "\n",
      "[notice] A new release of pip is available: 24.3.1 -> 25.2\n",
      "[notice] To update, run: python.exe -m pip install --upgrade pip\n"
     ]
    }
   ],
   "source": [
    "%pip install -q langchain-tavily"
   ]
  },
  {
   "cell_type": "code",
   "execution_count": 5,
   "id": "e11f68f7",
   "metadata": {},
   "outputs": [
    {
     "data": {
      "text/plain": [
       "<function dotenv.main.load_dotenv(dotenv_path: Union[str, ForwardRef('os.PathLike[str]'), NoneType] = None, stream: Optional[IO[str]] = None, verbose: bool = False, override: bool = False, interpolate: bool = True, encoding: Optional[str] = 'utf-8') -> bool>"
      ]
     },
     "execution_count": 5,
     "metadata": {},
     "output_type": "execute_result"
    }
   ],
   "source": [
    "from dotenv import load_dotenv\n",
    "from pprint import pprint\n",
    "\n",
    "load_dotenv"
   ]
  },
  {
   "cell_type": "code",
   "execution_count": 3,
   "id": "486b2810",
   "metadata": {},
   "outputs": [],
   "source": [
    "from langchain_tavily import TavilySearch\n",
    "\n",
    "search_tool = TavilySearch(\n",
    "    max_result=5,\n",
    "    topic=\"general\",\n",
    "    search_depth=\"basic\",\n",
    ")"
   ]
  },
  {
   "cell_type": "code",
   "execution_count": 6,
   "id": "03149da4",
   "metadata": {},
   "outputs": [
    {
     "name": "stdout",
     "output_type": "stream",
     "text": [
      "{'answer': None,\n",
      " 'follow_up_questions': None,\n",
      " 'images': [],\n",
      " 'query': '강남 신세계에서 밥먹을만한 곳 알려줘',\n",
      " 'request_id': '761fa4cd-1092-4067-879c-1c53f494989b',\n",
      " 'response_time': 1.26,\n",
      " 'results': [{'content': '강남신세계 혼밥맛집 (106곳) · 1. 소녀방앗간 서울고속터미널점 · 2. 타코벨 '\n",
      "                         '서울고속버스터미널점 · 3. 소이연남 파미에스테이션점 · 4. 갓덴스시 센트럴시티점 · 5. '\n",
      "                         '101번지',\n",
      "              'raw_content': None,\n",
      "              'score': 0.72231215,\n",
      "              'title': \"'강남신세계 혼밥' 맛집 빅데이터 추천순위 Top100 - 다이닝코드\",\n",
      "              'url': 'https://www.diningcode.com/list.dc?query=%EA%B0%95%EB%82%A8%EC%8B%A0%EC%84%B8%EA%B3%84%20%ED%98%BC%EB%B0%A5'},\n",
      "             {'content': 'Missing: 밥 알려줘',\n",
      "              'raw_content': None,\n",
      "              'score': 0.71948266,\n",
      "              'title': '강남 신세계 푸드코트 하우스오브 신세계,스위트파크(Eng CC)/ Seoul ...',\n",
      "              'url': 'https://www.youtube.com/watch?v=wRvUnu8OwWI'},\n",
      "             {'content': 'Missing: 밥 알려줘',\n",
      "              'raw_content': None,\n",
      "              'score': 0.63316137,\n",
      "              'title': '서울 신세계 강남점 근처 맛집 Best 10 - Tripadvisor - 트립어드바이저',\n",
      "              'url': 'https://www.tripadvisor.co.kr/RestaurantsNear-g294197-d9755552-Shinsegae_Gangnam-Seoul.html'},\n",
      "             {'content': '하우스오브신세계 생긴 후로는 하우스오브신세계에서. 자주 밥 먹느라 식당가는 예전처럼 잘 안 '\n",
      "                         '가는데. 오랜만에 생각나서 다녀온 #강남신세계식당가',\n",
      "              'raw_content': None,\n",
      "              'score': 0.60861784,\n",
      "              'title': '강남신세계 혼밥 모음: 밀화, 미도한우함박, 자주한상 : 네이버 블로그',\n",
      "              'url': 'https://blog.naver.com/dailyddo/223720251099?viewType=pc'},\n",
      "             {'content': 'Missing: 밥 알려줘',\n",
      "              'raw_content': None,\n",
      "              'score': 0.588062,\n",
      "              'title': '2025년 신세계 강남점 추천 식당 (9월 업데이트)| Trip Moments',\n",
      "              'url': 'https://kr.trip.com/moments/theme/poi-shinsegae-gangnam-136063632-restaurants-993134/'}]}\n"
     ]
    }
   ],
   "source": [
    "pprint(search_tool.invoke({'query': '강남 신세계에서 밥먹을만한 곳 알려줘'}))"
   ]
  },
  {
   "cell_type": "code",
   "execution_count": null,
   "id": "cde3a5d2",
   "metadata": {},
   "outputs": [],
   "source": []
  }
 ],
 "metadata": {
  "kernelspec": {
   "display_name": "Python 3",
   "language": "python",
   "name": "python3"
  },
  "language_info": {
   "codemirror_mode": {
    "name": "ipython",
    "version": 3
   },
   "file_extension": ".py",
   "mimetype": "text/x-python",
   "name": "python",
   "nbconvert_exporter": "python",
   "pygments_lexer": "ipython3",
   "version": "3.13.2"
  }
 },
 "nbformat": 4,
 "nbformat_minor": 5
}
