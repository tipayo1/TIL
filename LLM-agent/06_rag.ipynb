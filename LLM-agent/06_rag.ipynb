{
 "cells": [
  {
   "cell_type": "markdown",
   "id": "60efe21f",
   "metadata": {},
   "source": [
    "# RAG(검색-증강 생성) Retrieval-Augmented Generation\n",
    "- LLM이 외부 데이터를 컨텍스트로 활용."
   ]
  },
  {
   "cell_type": "code",
   "execution_count": null,
   "id": "9b818bfd",
   "metadata": {},
   "outputs": [
    {
     "data": {
      "text/plain": [
       "True"
      ]
     },
     "execution_count": 1,
     "metadata": {},
     "output_type": "execute_result"
    }
   ],
   "source": [
    "from dotenv import load_dotenv\n",
    "\n",
    "load_dotenv()"
   ]
  },
  {
   "cell_type": "code",
   "execution_count": 2,
   "id": "575c4aa6",
   "metadata": {},
   "outputs": [],
   "source": [
    "from langchain_core.documents import Document\n",
    "\n",
    "documents = [\n",
    "    Document(\n",
    "        page_content=\"Dogs are great companions, known for their loyalty and friendliness.\",\n",
    "        metadata={\"source\": \"mammal-pets-doc\"},\n",
    "    ),\n",
    "    Document(\n",
    "        page_content=\"Cats are independent pets that often enjoy their own space.\",\n",
    "        metadata={\"source\": \"mammal-pets-doc\"},\n",
    "    ),\n",
    "    Document(\n",
    "        page_content=\"Goldfish are popular pets for beginners, requiring relatively simple care.\",\n",
    "        metadata={\"source\": \"fish-pets-doc\"},\n",
    "    ),\n",
    "    Document(\n",
    "        page_content=\"Parrots are intelligent birds capable of mimicking human speech.\",\n",
    "        metadata={\"source\": \"bird-pets-doc\"},\n",
    "    ),\n",
    "    Document(\n",
    "        page_content=\"Rabbits are social animals that need plenty of space to hop around.\",\n",
    "        metadata={\"source\": \"mammal-pets-doc\"},\n",
    "    ),\n",
    "]"
   ]
  },
  {
   "cell_type": "code",
   "execution_count": 3,
   "id": "5e20a18e",
   "metadata": {},
   "outputs": [],
   "source": [
    "# %pip install -q \"langchain_chroma>=0.1.2\" langchain_community faiss-cpu"
   ]
  },
  {
   "cell_type": "code",
   "execution_count": null,
   "id": "b0c7022b",
   "metadata": {},
   "outputs": [],
   "source": [
    "from langchain_openai import OpenAIEmbeddings\n",
    "from langchain_community.vectorstores import FAISS\n",
    "\n",
    "# OpenAI 임베딩 모델\n",
    "embedding = OpenAIEmbeddings(model=\"text-embedding-3-small\")\n",
    "\n",
    "# x = embedding.embed_query('점심 배불리 먹었더니 졸리다..')\n",
    "# print(len(x), x)\n",
    "\n",
    "# VectorStore 에 임베딩 후 저장(In memory)\n",
    "vectorstore = FAISS.from_documents(documents, embedding=embedding)"
   ]
  },
  {
   "cell_type": "code",
   "execution_count": null,
   "id": "d3fa2cca",
   "metadata": {},
   "outputs": [
    {
     "data": {
      "text/plain": [
       "[Document(id='07b8f509-f283-4657-bf6e-37141777a8b1', metadata={'source': 'fish-pets-doc'}, page_content='Goldfish are popular pets for beginners, requiring relatively simple care.'),\n",
       " Document(id='134681fc-ce11-4939-b981-c389dcefa781', metadata={'source': 'mammal-pets-doc'}, page_content='Dogs are great companions, known for their loyalty and friendliness.')]"
      ]
     },
     "execution_count": 5,
     "metadata": {},
     "output_type": "execute_result"
    }
   ],
   "source": [
    "vectorstore.similarity_search(\"초보자가 키우기 좋은 애완동물 추천해줘\", k=2)"
   ]
  },
  {
   "cell_type": "markdown",
   "id": "5c3e5bdc",
   "metadata": {},
   "source": [
    "## 사전처리 단계\n",
    "1. 문서 불러오기 (Loading)\n",
    "2. 텍스트 나누기 (Splitting)\n",
    "3. 숫자로 바꾸기 (Embedding)\n",
    "4. 저장하기 (VectorStore)"
   ]
  },
  {
   "cell_type": "code",
   "execution_count": 6,
   "id": "07ada3d4",
   "metadata": {},
   "outputs": [],
   "source": [
    "# %pip install -q pymupdf"
   ]
  },
  {
   "cell_type": "code",
   "execution_count": null,
   "id": "5b2d8c69",
   "metadata": {},
   "outputs": [
    {
     "name": "stdout",
     "output_type": "stream",
     "text": [
      "원본 pdf의 장수 23\n"
     ]
    }
   ],
   "source": [
    "# 1. Load\n",
    "from langchain_community.document_loaders import PyMuPDFLoader\n",
    "\n",
    "loader = PyMuPDFLoader(\"./data/spri.pdf\")\n",
    "docs = loader.load()\n",
    "\n",
    "\n",
    "print(\"원본 pdf의 장수\", len(docs))"
   ]
  },
  {
   "cell_type": "code",
   "execution_count": null,
   "id": "33b59ee4",
   "metadata": {},
   "outputs": [
    {
     "name": "stdout",
     "output_type": "stream",
     "text": [
      "분할 후 청크 수 72\n"
     ]
    }
   ],
   "source": [
    "# 2. Split\n",
    "from langchain_text_splitters import RecursiveCharacterTextSplitter\n",
    "\n",
    "# 500글자당 1 청크 / 50글자는 겹치게 나눈다.\n",
    "text_splitter = RecursiveCharacterTextSplitter(chunk_size=500, chunk_overlap=50)\n",
    "split_docs = text_splitter.split_documents(docs)\n",
    "\n",
    "print(\"분할 후 청크 수\", len(split_docs))"
   ]
  },
  {
   "cell_type": "code",
   "execution_count": null,
   "id": "82960ce9",
   "metadata": {},
   "outputs": [
    {
     "data": {
      "text/plain": [
       "[Document(id='f6463710-2d0c-4d71-9d5f-33ebd6d6a10b', metadata={'producer': 'Hancom PDF 1.3.0.542', 'creator': 'Hwp 2018 10.0.0.13462', 'creationdate': '2023-12-08T13:28:38+09:00', 'source': './data/spri.pdf', 'file_path': './data/spri.pdf', 'total_pages': 23, 'format': 'PDF 1.4', 'title': '', 'author': 'dj', 'subject': '', 'keywords': '', 'moddate': '2023-12-08T13:28:38+09:00', 'trapped': '', 'modDate': \"D:20231208132838+09'00'\", 'creationDate': \"D:20231208132838+09'00'\", 'page': 3}, page_content='1. 정책/법제  \\n2. 기업/산업 \\n3. 기술/연구 \\n 4. 인력/교육\\n미국, 안전하고 신뢰할 수 있는 AI 개발과 사용에 관한 행정명령 발표 \\nn 미국 바이든 대통령이 ‘안전하고 신뢰할 수 있는 AI 개발과 사용에 관한 행정명령’에 서명하고 \\n광범위한 행정 조치를 명시\\nn 행정명령은 △AI의 안전과 보안 기준 마련 △개인정보보호 △형평성과 시민권 향상 △소비자 \\n보호 △노동자 지원 △혁신과 경쟁 촉진 △국제협력을 골자로 함\\nKEY Contents\\n£ 바이든 대통령, AI 행정명령 통해 안전하고 신뢰할 수 있는 AI 개발과 활용 추진\\nn 미국 바이든 대통령이 2023년 10월 30일 연방정부 차원에서 안전하고 신뢰할 수 있는 AI 개발과 \\n사용을 보장하기 위한 행정명령을 발표\\n∙행정명령은 △AI의 안전과 보안 기준 마련 △개인정보보호 △형평성과 시민권 향상 △소비자 보호 \\n△노동자 지원 △혁신과 경쟁 촉진 △국제협력에 관한 내용을 포괄'),\n",
       " Document(id='7d6da59a-5901-4488-87da-af25127013d9', metadata={'producer': 'Hancom PDF 1.3.0.542', 'creator': 'Hwp 2018 10.0.0.13462', 'creationdate': '2023-12-08T13:28:38+09:00', 'source': './data/spri.pdf', 'file_path': './data/spri.pdf', 'total_pages': 23, 'format': 'PDF 1.4', 'title': '', 'author': 'dj', 'subject': '', 'keywords': '', 'moddate': '2023-12-08T13:28:38+09:00', 'trapped': '', 'modDate': \"D:20231208132838+09'00'\", 'creationDate': \"D:20231208132838+09'00'\", 'page': 3}, page_content='공부하고 취업할 수 있도록 지원\\n☞ 출처 : The White House, Executive Order on the Safe, Secure, and Trustworthy Development and Use of \\nArtificial Intelligence (E.O. 14110), 2023.10.30.'),\n",
       " Document(id='525a23a2-d64c-4f0c-b0f5-1d327d6308ff', metadata={'producer': 'Hancom PDF 1.3.0.542', 'creator': 'Hwp 2018 10.0.0.13462', 'creationdate': '2023-12-08T13:28:38+09:00', 'source': './data/spri.pdf', 'file_path': './data/spri.pdf', 'total_pages': 23, 'format': 'PDF 1.4', 'title': '', 'author': 'dj', 'subject': '', 'keywords': '', 'moddate': '2023-12-08T13:28:38+09:00', 'trapped': '', 'modDate': \"D:20231208132838+09'00'\", 'creationDate': \"D:20231208132838+09'00'\", 'page': 4}, page_content='정보공유를 위해 ‘히로시마 AI 프로세스’를 출범**\\n∙기업의 자발적 채택을 위해 마련된 이번 행동강령은 기반모델과 생성 AI를 포함한 첨단 AI 시스템의 \\n위험 식별과 완화에 필요한 조치를 포함\\n* 주요 7개국(G7)은 미국, 일본, 독일, 영국, 프랑스, 이탈리아, 캐나다를 의미\\n** 5월 정상회의에는 한국, 호주, 베트남 등을 포함한 8개국이 초청을 받았으나, AI 국제 행동강령에는 우선 G7 국가만 포함하여 채택\\nn G7은 행동강령을 통해 아래의 조치를 제시했으며, 빠르게 발전하는 기술에 대응할 수 있도록 \\n이해관계자 협의를 통해 필요에 따라 개정할 예정\\n∙첨단 AI 시스템의 개발 과정에서 AI 수명주기 전반에 걸쳐 위험을 평가 및 완화하는 조치를 채택하고, \\n첨단 AI 시스템의 출시와 배포 이후 취약점과 오용 사고, 오용 유형을 파악해 완화\\n∙첨단 AI 시스템의 성능과 한계를 공개하고 적절하거나 부적절한 사용영역을 알리는 방법으로 투명성을 \\n보장하고 책임성을 강화'),\n",
       " Document(id='8af95b48-afa7-493a-9176-a2311ea2b53e', metadata={'producer': 'Hancom PDF 1.3.0.542', 'creator': 'Hwp 2018 10.0.0.13462', 'creationdate': '2023-12-08T13:28:38+09:00', 'source': './data/spri.pdf', 'file_path': './data/spri.pdf', 'total_pages': 23, 'format': 'PDF 1.4', 'title': '', 'author': 'dj', 'subject': '', 'keywords': '', 'moddate': '2023-12-08T13:28:38+09:00', 'trapped': '', 'modDate': \"D:20231208132838+09'00'\", 'creationDate': \"D:20231208132838+09'00'\", 'page': 1}, page_content='2023년 12월호\\nⅠ. 인공지능 산업 동향 브리프\\n 1. 정책/법제 \\n   ▹ 미국, 안전하고 신뢰할 수 있는 AI 개발과 사용에 관한 행정명령 발표  ························· 1\\n   ▹ G7, 히로시마 AI 프로세스를 통해 AI 기업 대상 국제 행동강령에 합의··························· 2\\n   ▹ 영국 AI 안전성 정상회의에 참가한 28개국, AI 위험에 공동 대응 선언··························· 3\\n   ▹ 미국 법원, 예술가들이 생성 AI 기업에 제기한 저작권 소송 기각····································· 4\\n   ▹ 미국 연방거래위원회, 저작권청에 소비자 보호와 경쟁 측면의 AI 의견서 제출················· 5')]"
      ]
     },
     "execution_count": 9,
     "metadata": {},
     "output_type": "execute_result"
    }
   ],
   "source": [
    "# 3. 임베딩, 4. 벡터스토어 저장\n",
    "from langchain_openai import OpenAIEmbeddings\n",
    "from langchain_community.vectorstores import FAISS\n",
    "\n",
    "embedding = OpenAIEmbeddings()\n",
    "\n",
    "vectorstore = FAISS.from_documents(documents=split_docs, embedding=embedding)\n",
    "\n",
    "# Test\n",
    "vectorstore.similarity_search(\"미국 대통령과 관련된 문서들 가져와봐\", k=4)"
   ]
  },
  {
   "cell_type": "markdown",
   "id": "8f90f8f2",
   "metadata": {},
   "source": [
    "## 검색 증강 단계\n",
    "1. 사용자 질문 (Query)\n",
    "2. 검색 (Retrieve)\n",
    "3. LLM \n",
    "4. 최종 답변"
   ]
  },
  {
   "cell_type": "code",
   "execution_count": null,
   "id": "3b9476a8",
   "metadata": {},
   "outputs": [
    {
     "data": {
      "text/plain": [
       "'삼성전자는 2023년 삼성 AI 포럼에서 자체 개발 생성 AI 모델 ‘삼성 가우스’를 공개했고, 언어, 코드, 이미지의 3개 모델로 구성되어 온디바이스에서 작동하도록 설계됐다.  \\n가우스는 라이선스나 개인정보를 침해하지 않는 안전한 데이터로 학습되었으며 외부로 사용자 정보가 유출되지 않는 점을 강조한다.  \\n또한 코드 모델 ‘코드아이(code.i)’ 같은 AI 코딩 어시스턴트가 포함되며, 다양한 제품에 단계적으로 탑재될 계획으로 2024년 이후 가우스 탑재 기기가 늘어날 전망이다.'"
      ]
     },
     "execution_count": 10,
     "metadata": {},
     "output_type": "execute_result"
    }
   ],
   "source": [
    "from langchain_openai import ChatOpenAI\n",
    "from langchain_core.prompts import PromptTemplate\n",
    "from langchain_core.runnables import RunnablePassthrough\n",
    "from langchain_core.output_parsers import StrOutputParser\n",
    "\n",
    "from langchain import hub\n",
    "\n",
    "# Prompt 세팅 (랭체인 허브에서 가져오기)\n",
    "prompt = hub.pull(\"rlm/rag-prompt\")\n",
    "\n",
    "# LLM 모델\n",
    "llm = ChatOpenAI(model=\"gpt-5-nano\")\n",
    "\n",
    "# 검색기 생성(retriever 생성)\n",
    "retriever = vectorstore.as_retriever()\n",
    "\n",
    "chain = (\n",
    "    {\"context\": retriever, \"question\": RunnablePassthrough()}\n",
    "    | prompt\n",
    "    | llm\n",
    "    | StrOutputParser()\n",
    ")\n",
    "\n",
    "chain.invoke(\"삼성전자 관련 소식 다 가져와\")"
   ]
  },
  {
   "cell_type": "code",
   "execution_count": null,
   "id": "c0cd0b3b",
   "metadata": {},
   "outputs": [],
   "source": [
    "# Agent + RAG\n",
    "from langchain.agents import create_openai_tools_agent, AgentExecutor\n",
    "from langchain_core.prompts import ChatPromptTemplate, MessagesPlaceholder\n",
    "from langchain.memory import ConversationBufferMemory\n",
    "from langchain_tavily import TavilySearch\n",
    "\n",
    "from datetime import datetime\n",
    "\n",
    "# RAG 관련\n",
    "from langchain_community.document_loaders import PyMuPDFLoader\n",
    "from langchain.text_splitter import RecursiveCharacterTextSplitter\n",
    "from langchain_openai import ChatOpenAI, OpenAIEmbeddings\n",
    "from langchain_community.vectorstores import FAISS\n",
    "from langchain.tools.retriever import create_retriever_tool\n",
    "\n",
    "today = datetime.today().strftime(\"%Y-%m-%d\")\n",
    "\n",
    "llm = ChatOpenAI(model=\"gpt-5-nano\")\n",
    "\n",
    "search_tool = TavilySearch(max_results=5, topic=\"general\")\n",
    "\n",
    "loader = PyMuPDFLoader(\"./data/spri.pdf\")\n",
    "docs = loader.load()\n",
    "splitter = RecursiveCharacterTextSplitter(chunk_size=500, chunk_overlap=50)\n",
    "split_docs = splitter.split_documents(docs)\n",
    "embedding = OpenAIEmbeddings()\n",
    "vectorstore = FAISS.from_documents(split_docs, embedding=embedding)\n",
    "retriever = vectorstore.as_retriever()\n",
    "\n",
    "rag_tool = create_retriever_tool(\n",
    "    retriever,\n",
    "    name=\"pdf_search\",\n",
    "    description=\"PDF 문서에서 질문과 관련된 내용을 검색합니다.\",  # Agent가 언제 이 tool을 쓸지 알게됨\n",
    ")\n",
    "\n",
    "text = f\"\"\"\n",
    "너는 웹 검색이 가능하고, 2023년 12월 인공지능 산업 최신동향 정보를 담은 pdf 를 검색할 수 있는 어시스턴트야.\n",
    "\n",
    "- 사용자가 PDF 문서와 관련된 질문(ex. '이 pdf에서', '문서내용', '파일에서)을 하면 반드시 'pdf_search' 도구를 써야해\n",
    "- 사용자 질문이 팩트체크를 필요로 하고, 최신성이 필요하다 판단되면 web_search를 실행해야해\n",
    "- 사용자가 일반적인 질문을 하고, 최신성이나 팩트체크가 필요없으면 그냥 답변해\n",
    "- 뭔가 확실하지 않으면 pdf_search 와 web_search를 모두 실행해서 답변을 생성해\n",
    "\n",
    "오늘은 {today} 야.\n",
    "\"\"\"\n",
    "\n",
    "prompt = ChatPromptTemplate.from_messages(\n",
    "    [\n",
    "        (\"system\", text),\n",
    "        MessagesPlaceholder(variable_name=\"chat_history\"),\n",
    "        (\"human\", \"{input}\"),\n",
    "        MessagesPlaceholder(\n",
    "            variable_name=\"agent_scratchpad\"\n",
    "        ),  # 도구(검색) 호출때 필요함\n",
    "    ]\n",
    ")\n",
    "\n",
    "memory = ConversationBufferMemory(return_messages=True, memory_key=\"chat_history\")\n",
    "\n",
    "agent = create_openai_tools_agent(\n",
    "    llm=llm,\n",
    "    tools=[search_tool, rag_tool],\n",
    "    prompt=prompt,\n",
    ")\n",
    "\n",
    "agent_executor = AgentExecutor(\n",
    "    agent=agent, memory=memory, tools=[search_tool, rag_tool], verbose=True\n",
    ")"
   ]
  },
  {
   "cell_type": "code",
   "execution_count": null,
   "id": "274a336a",
   "metadata": {},
   "outputs": [
    {
     "name": "stdout",
     "output_type": "stream",
     "text": [
      "\n",
      "\n",
      "\u001b[1m> Entering new AgentExecutor chain...\u001b[0m\n",
      "\u001b[32;1m\u001b[1;3m\n",
      "Invoking: `tavily_search` with `{'query': 'AI industry trends 2024 2025 report foundation models regulation safety enterprise adoption 2025', 'start_date': '2024-01-01', 'end_date': '2025-09-03', 'search_depth': 'advanced', 'topic': 'general'}`\n",
      "\n",
      "\n",
      "\u001b[0m\u001b[36;1m\u001b[1;3m{'query': 'AI industry trends 2024 2025 report foundation models regulation safety enterprise adoption 2025', 'follow_up_questions': None, 'answer': None, 'images': [], 'results': [{'url': 'https://medium.com/@dejanmarkovic_53716/ai-trends-for-2025-enterprise-adoption-challenges-solutions-e4ee075788dd', 'title': 'AI Trends for 2025: Enterprise Adoption Challenges & Solutions', 'content': 'Data from Gartner indicates that by 2025, over 75% of enterprises will have moved beyond experimental AI deployments to implement production-ready systems that directly impact core business operations. This represents a significant maturation of the market from the exploratory phase that characterized the early 2020s. [...] As AI systems become more deeply integrated into critical business functions, the regulatory landscape will continue to evolve rapidly through 2025. Organizations must develop sophisticated approaches to AI implementation challenges related to compliance, governance, and ethical considerations.\\n\\nNavigating Evolving AI Regulations [...] Published Time: 2025-08-08T13:31:42Z\\n\\nAI Trends for 2025: Enterprise Adoption Challenges & Solutions | by Dejan Markovic, co-founder  | Aug, 2025 | Medium\\n\\nSitemap\\n\\nOpen in app\\n\\nSign up\\n\\nSign in\\n\\n with specialized AI systems will create hybrid architectures capable of both broad reasoning and deep domain expertise. This evolution will enable more sophisticated decision support systems that combine the contextual understanding of foundation models with the precision of purpose-built algorithms.', 'score': 0.85157084, 'raw_content': None}, {'url': 'https://www.prnewswire.com/news-releases/new-study-reveals-major-gap-between-enterprise-ai-adoption-and-security-readiness-302469214.html', 'title': 'New Study Reveals Major Gap Between Enterprise AI Adoption and ...', 'content': 'NEW YORK, June 4, 2025 /PRNewswire/ -- BigID, the leader in data security, privacy, compliance, and AI data management, today announced its AI Risk & Readiness in the Enterprise: 2025 Report, revealing that a majority of organizations are struggling to keep pace with the security and governance challenges posed by artificial intelligence (AI). The report highlights an alarming disconnect between the rapid adoption of AI technologies and the implementation of necessary security controls,', 'score': 0.80698997, 'raw_content': None}, {'url': 'https://hai-production.s3.amazonaws.com/files/hai_ai_index_report_2025.pdf', 'title': 'Artificial Intelligence Index Report 2025', 'content': '10. Industry is racing ahead in AI—but the frontier is tightening. Nearly 90% of notable AI models in 2024 came from industry, up from 60% in 2023, while academia remains the top source of highly cited research. Model scale continues to grow rapidly—training compute doubles every five months, datasets every eight, and power use annually. Yet performance gaps are shrinking: the Elo skill score difference between the top and 10th-ranked models fell from 11.9% to 5.4% in a year, and the top two [...] 2. Generative AI funding soars. Private investment in generative AI reached $33.9 billion in 2024, up 18.7% from 2023 and over 8.5 times higher than 2022 levels. The sector now represents more than 20% of all AI-related private investment. [...] CHAPTER 5: Science and Medicine Report Highlights Artificial Intelligence Index Report 2025 20 8. Foundation models come to medicine. In 2024, a wave of large-scale medical foundation models were released, ranging from general-purpose multimodal models like Med-Gemini to specialized models such as EchoCLIP for echocardiology, VisionFM for ophthalmology, and ChexAgent for radiology.', 'score': 0.80442166, 'raw_content': None}, {'url': 'https://www.credo.ai/blog/key-ai-regulations-in-2025-what-enterprises-need-to-know', 'title': 'Key AI Regulations in 2025: What Enterprises Need to Know', 'content': 'The UK unveiled the AI Opportunities Action Plan on January 13, 2025 outlining its commitment to shaping the future of AI and including enabling safe and trusted AI development and adoption through regulation, safety and assurance. The UK is expected to continue public consultations on sector specific issues relating to AI. [...] South Korea enacted the Framework Act on the Development of AI  and Establishment of a Foundation of Trust, a comprehensive AI law  sharing common elements with the EU AI Act, on January 10th, 2025. [...] As AI regulations continue to evolve, organizations must establish comprehensive yet agile governance frameworks that not only comply with emerging requirements but also enable the responsible and accelerated adoption of AI. Credo AI empowers organizations to navigate this complex landscape by identifying relevant regulations, mapping policy requirements to a streamlined set of actionable controls, and offering implementation guidance to mitigate risks effectively.', 'score': 0.79901963, 'raw_content': None}, {'url': 'https://securiti.ai/ai-roundup/june-2025/', 'title': 'Global AI Regulations Roundup: Top Stories of June 2025 - Securiti', 'content': 'Image 306: Gencore AI and Amazon BedrockView More\\n\\n January 7, 2025 \\n\\nBuilding Enterprise-Grade AI with Gencore AI and Amazon Bedrock\\n\\n Learn how to build secure enterprise AI copilots with Amazon Bedrock models, protect AI interactions with LLM Firewalls, and apply OWASP Top 10 LLM... \\n\\nImage 308: DSPM Vendor Due DiligenceView More\\n\\n November 18, 2024 \\n\\nDSPM Vendor Due Diligence [...] The report highlights federated learning’s potential to support data minimization, privacy protection, and reduced cybersecurity risks through decentralized processing, while also cautioning about risks like data leakage from model updates. Overall, the report provides valuable guidance for organizations seeking to innovate with AI while staying compliant with Europe’s strict data protection standards, especially in sensitive sectors.\\n\\nRead More. [...] Vietnam’s National Assembly has passed the Law on Digital Technology Industry, laying the foundation for regulating emerging technologies such as AI, blockchain, and digital assets. The law formally recognizes digital and crypto assets under civil law, sets out governance principles for artificial intelligence, including transparency, accountability, and safety, and mandates licensing for high-risk AI systems.', 'score': 0.7724109, 'raw_content': None}], 'response_time': 2.11, 'request_id': '4594d737-1b50-424e-a1db-7783bab0c5f7'}\u001b[0m\u001b[32;1m\u001b[1;3m요약하면 2023년의 흐름과 비교해 올해(2025년)에는 AI가 더 실무에 깊이 들어가고, 규제/거버넌스도 더 강하게 자리 잡았으며, 의료 같은 분야로의 확장도 가속화되었습니다. 아래는 최근 트렌드의 핵심 포인트입니다.\n",
      "\n",
      "주요 업데이트 포인트\n",
      "- 생산적 확산(프로덕션 레디 AI)\n",
      "  - 엔터프라이즈에서 실험 단계에서 벗어나 생산 운영에 바로 적용하는 사례가 늘어나고 있습니다. 최신 분석에 따르면 2025년까지 다수의 기업이 생산 가능한 AI 시스템을 운영에 반영하고 있다고 합니다.\n",
      "\n",
      "- Foundation 모델의 주도권 확산\n",
      "  - 산업체가 주도하는 대형 모델 개발이 폭넓게 확대되었습니다. 2024년 상면의 모델 중 거의 90%가 산업계에서 나오고, 학계의 연구 기여도는 여전히 많이 높지만 모델 규모와 실용화 속도가 산업 쪽에 집중되고 있습니다.\n",
      "  - 의료 분야로의 확장도 가속화되어 Med-Gemini 같은 대형 의학 foundation 모델과 해당 분야 특화 모델들이 속속 등장하고 있습니다(의료 영상·진단 보조 등).\n",
      "\n",
      "- 투자와 데이터/컴퓨트 성장\n",
      "  - Generative AI 분야의 민간 투자 규모가 크게 증가했습니다. 2024년에는 약 339억 달러 수준으로 전년 대비 상승하고, 2022년 대비 몇 배 성장한 수치를 기록했습니다.\n",
      "  - 모델 규모의 증가 속도도 빨라지고 있습니다. 5개월마다 훈련 컴퓨트가, 8개월마다 데이터셋이 크게 증가하는 추세입니다. 다만 이와 함께 에너지 소비 증가와 같은 도전도 병행하고 있습니다.\n",
      "  - 학계보다 산업계가 혁신의 속도를 주도하는 한편, 상위 모델 간 성능 격차는 점차 줄고 있습니다.\n",
      "\n",
      "- 규제/거버넌스의 강화\n",
      "  - 2025년에 들어 각국에서 AI 규제 체계 구상과 구체적 이행 논의가 활발해졌습니다. 예를 들어 영국의 AI 기회 계획(AI Opportunities Action Plan, 2025) 발표와 같은 움직임이 이어졌고, 한국도 AI 개발·신뢰 기반의 법체계 정비를 추진 중입니다.\n",
      "  - 기업 차원의 거버넌스 체계와 보안/리스크 관리가 실질적으로 요구되며, LLM 보안, 데이터 프라이버시, 공급망 관리 등과 연계된 규정 준수 노력이 확산되고 있습니다.\n",
      "\n",
      "- 보안과 리스크 관리의 중요성 증가\n",
      "  - AI 도입 속도와 보안/거버넌스 간의 간극이 여전히 문제로 지적되고 있습니다. AI 도입이 빠른 만큼 데이터 관리, 모델 관리, 사이버 보안, 컴플라이언스 측면에서의 준비가 더 필요한 상황입니다.\n",
      "\n",
      "- 분야별 특화 모델과 협력형 AI의 발전\n",
      "  - 상용화된 “코파일럿” 형태의 협력 AI 도구가 다양한 업무 프로세스에 투입되고, 의료·금융 등 고도화된 도메인에서의 특화 모델이 사용 사례를 넓히고 있습니다. 이는 엔터프라이즈의 업무 생산성을 직접 높이는 방향으로 작동하고 있습니다.\n",
      "\n",
      "참고할 만한 출처 요약\n",
      "- AI Index Report 2025\n",
      "  - 산업계 주도 모델 등장률 증가(약 90% 수준, 2024년), 학계는 여전히 연구의 주요 출처\n",
      "  - 모델 규모 확대: 훈련 컴퓨트/데이터 증가 속도, 에너지 사용 증가\n",
      "  - 비공식 투자: 2024년 제너레이티브 AI 투자 약 339억 달러\n",
      "  - 의료 분야로의 foundation 모델 도입 사례 다수\n",
      "- 규제 동향과 거버넌스\n",
      "  - UK의 AI Opportunities Action Plan(2025) 등 각국의 규제·가이드라인 정비\n",
      "  - 기업 거버넌스와 보안/리스크 관리 강화 필요성 강조\n",
      "- 보안/리스크 관리 관련 현황\n",
      "  - AI 도입 속도에 비례해 보안·개인정보·거버넌스 이슈가 중요해지고 있음(기업 리스크 리포트 및 보안 프로그램 가이드)\n",
      "- 실무 적용 사례\n",
      "  - 엔터프라이즈의 생산적 AI 도입 확산, Gencore AI/Bedrock 같은 플랫폼과 LLM 방화벽 등의 보안 도구 활용 증가\n",
      "\n",
      "원하시면\n",
      "- 특정 분야(예: 의료, 금융, 제조)나 지역별 최신 동향에 대해 더 자세한 요약이나 PDFs를 찾아 요약해 드리겠습니다.\n",
      "- 또는 관심 분야의 구체적 이슈(거버넌스 프레임워크, 특정 규제 준수 체크리스트, 의료용 모델의 안전성 평가 방법 등)에 맞춘 자료를 찾아 정리해 드릴 수도 있어요.\u001b[0m\n",
      "\n",
      "\u001b[1m> Finished chain.\u001b[0m\n"
     ]
    },
    {
     "data": {
      "text/plain": [
       "{'input': '방금 말한 내용들 2023년 기준인데, 요즘엔 어떻게 됐대?',\n",
       " 'chat_history': [HumanMessage(content='방금 말한 내용들 2023년 기준인데, 요즘엔 어떻게 됐대?', additional_kwargs={}, response_metadata={}),\n",
       "  AIMessage(content='요약하면 2023년의 흐름과 비교해 올해(2025년)에는 AI가 더 실무에 깊이 들어가고, 규제/거버넌스도 더 강하게 자리 잡았으며, 의료 같은 분야로의 확장도 가속화되었습니다. 아래는 최근 트렌드의 핵심 포인트입니다.\\n\\n주요 업데이트 포인트\\n- 생산적 확산(프로덕션 레디 AI)\\n  - 엔터프라이즈에서 실험 단계에서 벗어나 생산 운영에 바로 적용하는 사례가 늘어나고 있습니다. 최신 분석에 따르면 2025년까지 다수의 기업이 생산 가능한 AI 시스템을 운영에 반영하고 있다고 합니다.\\n\\n- Foundation 모델의 주도권 확산\\n  - 산업체가 주도하는 대형 모델 개발이 폭넓게 확대되었습니다. 2024년 상면의 모델 중 거의 90%가 산업계에서 나오고, 학계의 연구 기여도는 여전히 많이 높지만 모델 규모와 실용화 속도가 산업 쪽에 집중되고 있습니다.\\n  - 의료 분야로의 확장도 가속화되어 Med-Gemini 같은 대형 의학 foundation 모델과 해당 분야 특화 모델들이 속속 등장하고 있습니다(의료 영상·진단 보조 등).\\n\\n- 투자와 데이터/컴퓨트 성장\\n  - Generative AI 분야의 민간 투자 규모가 크게 증가했습니다. 2024년에는 약 339억 달러 수준으로 전년 대비 상승하고, 2022년 대비 몇 배 성장한 수치를 기록했습니다.\\n  - 모델 규모의 증가 속도도 빨라지고 있습니다. 5개월마다 훈련 컴퓨트가, 8개월마다 데이터셋이 크게 증가하는 추세입니다. 다만 이와 함께 에너지 소비 증가와 같은 도전도 병행하고 있습니다.\\n  - 학계보다 산업계가 혁신의 속도를 주도하는 한편, 상위 모델 간 성능 격차는 점차 줄고 있습니다.\\n\\n- 규제/거버넌스의 강화\\n  - 2025년에 들어 각국에서 AI 규제 체계 구상과 구체적 이행 논의가 활발해졌습니다. 예를 들어 영국의 AI 기회 계획(AI Opportunities Action Plan, 2025) 발표와 같은 움직임이 이어졌고, 한국도 AI 개발·신뢰 기반의 법체계 정비를 추진 중입니다.\\n  - 기업 차원의 거버넌스 체계와 보안/리스크 관리가 실질적으로 요구되며, LLM 보안, 데이터 프라이버시, 공급망 관리 등과 연계된 규정 준수 노력이 확산되고 있습니다.\\n\\n- 보안과 리스크 관리의 중요성 증가\\n  - AI 도입 속도와 보안/거버넌스 간의 간극이 여전히 문제로 지적되고 있습니다. AI 도입이 빠른 만큼 데이터 관리, 모델 관리, 사이버 보안, 컴플라이언스 측면에서의 준비가 더 필요한 상황입니다.\\n\\n- 분야별 특화 모델과 협력형 AI의 발전\\n  - 상용화된 “코파일럿” 형태의 협력 AI 도구가 다양한 업무 프로세스에 투입되고, 의료·금융 등 고도화된 도메인에서의 특화 모델이 사용 사례를 넓히고 있습니다. 이는 엔터프라이즈의 업무 생산성을 직접 높이는 방향으로 작동하고 있습니다.\\n\\n참고할 만한 출처 요약\\n- AI Index Report 2025\\n  - 산업계 주도 모델 등장률 증가(약 90% 수준, 2024년), 학계는 여전히 연구의 주요 출처\\n  - 모델 규모 확대: 훈련 컴퓨트/데이터 증가 속도, 에너지 사용 증가\\n  - 비공식 투자: 2024년 제너레이티브 AI 투자 약 339억 달러\\n  - 의료 분야로의 foundation 모델 도입 사례 다수\\n- 규제 동향과 거버넌스\\n  - UK의 AI Opportunities Action Plan(2025) 등 각국의 규제·가이드라인 정비\\n  - 기업 거버넌스와 보안/리스크 관리 강화 필요성 강조\\n- 보안/리스크 관리 관련 현황\\n  - AI 도입 속도에 비례해 보안·개인정보·거버넌스 이슈가 중요해지고 있음(기업 리스크 리포트 및 보안 프로그램 가이드)\\n- 실무 적용 사례\\n  - 엔터프라이즈의 생산적 AI 도입 확산, Gencore AI/Bedrock 같은 플랫폼과 LLM 방화벽 등의 보안 도구 활용 증가\\n\\n원하시면\\n- 특정 분야(예: 의료, 금융, 제조)나 지역별 최신 동향에 대해 더 자세한 요약이나 PDFs를 찾아 요약해 드리겠습니다.\\n- 또는 관심 분야의 구체적 이슈(거버넌스 프레임워크, 특정 규제 준수 체크리스트, 의료용 모델의 안전성 평가 방법 등)에 맞춘 자료를 찾아 정리해 드릴 수도 있어요.', additional_kwargs={}, response_metadata={})],\n",
       " 'output': '요약하면 2023년의 흐름과 비교해 올해(2025년)에는 AI가 더 실무에 깊이 들어가고, 규제/거버넌스도 더 강하게 자리 잡았으며, 의료 같은 분야로의 확장도 가속화되었습니다. 아래는 최근 트렌드의 핵심 포인트입니다.\\n\\n주요 업데이트 포인트\\n- 생산적 확산(프로덕션 레디 AI)\\n  - 엔터프라이즈에서 실험 단계에서 벗어나 생산 운영에 바로 적용하는 사례가 늘어나고 있습니다. 최신 분석에 따르면 2025년까지 다수의 기업이 생산 가능한 AI 시스템을 운영에 반영하고 있다고 합니다.\\n\\n- Foundation 모델의 주도권 확산\\n  - 산업체가 주도하는 대형 모델 개발이 폭넓게 확대되었습니다. 2024년 상면의 모델 중 거의 90%가 산업계에서 나오고, 학계의 연구 기여도는 여전히 많이 높지만 모델 규모와 실용화 속도가 산업 쪽에 집중되고 있습니다.\\n  - 의료 분야로의 확장도 가속화되어 Med-Gemini 같은 대형 의학 foundation 모델과 해당 분야 특화 모델들이 속속 등장하고 있습니다(의료 영상·진단 보조 등).\\n\\n- 투자와 데이터/컴퓨트 성장\\n  - Generative AI 분야의 민간 투자 규모가 크게 증가했습니다. 2024년에는 약 339억 달러 수준으로 전년 대비 상승하고, 2022년 대비 몇 배 성장한 수치를 기록했습니다.\\n  - 모델 규모의 증가 속도도 빨라지고 있습니다. 5개월마다 훈련 컴퓨트가, 8개월마다 데이터셋이 크게 증가하는 추세입니다. 다만 이와 함께 에너지 소비 증가와 같은 도전도 병행하고 있습니다.\\n  - 학계보다 산업계가 혁신의 속도를 주도하는 한편, 상위 모델 간 성능 격차는 점차 줄고 있습니다.\\n\\n- 규제/거버넌스의 강화\\n  - 2025년에 들어 각국에서 AI 규제 체계 구상과 구체적 이행 논의가 활발해졌습니다. 예를 들어 영국의 AI 기회 계획(AI Opportunities Action Plan, 2025) 발표와 같은 움직임이 이어졌고, 한국도 AI 개발·신뢰 기반의 법체계 정비를 추진 중입니다.\\n  - 기업 차원의 거버넌스 체계와 보안/리스크 관리가 실질적으로 요구되며, LLM 보안, 데이터 프라이버시, 공급망 관리 등과 연계된 규정 준수 노력이 확산되고 있습니다.\\n\\n- 보안과 리스크 관리의 중요성 증가\\n  - AI 도입 속도와 보안/거버넌스 간의 간극이 여전히 문제로 지적되고 있습니다. AI 도입이 빠른 만큼 데이터 관리, 모델 관리, 사이버 보안, 컴플라이언스 측면에서의 준비가 더 필요한 상황입니다.\\n\\n- 분야별 특화 모델과 협력형 AI의 발전\\n  - 상용화된 “코파일럿” 형태의 협력 AI 도구가 다양한 업무 프로세스에 투입되고, 의료·금융 등 고도화된 도메인에서의 특화 모델이 사용 사례를 넓히고 있습니다. 이는 엔터프라이즈의 업무 생산성을 직접 높이는 방향으로 작동하고 있습니다.\\n\\n참고할 만한 출처 요약\\n- AI Index Report 2025\\n  - 산업계 주도 모델 등장률 증가(약 90% 수준, 2024년), 학계는 여전히 연구의 주요 출처\\n  - 모델 규모 확대: 훈련 컴퓨트/데이터 증가 속도, 에너지 사용 증가\\n  - 비공식 투자: 2024년 제너레이티브 AI 투자 약 339억 달러\\n  - 의료 분야로의 foundation 모델 도입 사례 다수\\n- 규제 동향과 거버넌스\\n  - UK의 AI Opportunities Action Plan(2025) 등 각국의 규제·가이드라인 정비\\n  - 기업 거버넌스와 보안/리스크 관리 강화 필요성 강조\\n- 보안/리스크 관리 관련 현황\\n  - AI 도입 속도에 비례해 보안·개인정보·거버넌스 이슈가 중요해지고 있음(기업 리스크 리포트 및 보안 프로그램 가이드)\\n- 실무 적용 사례\\n  - 엔터프라이즈의 생산적 AI 도입 확산, Gencore AI/Bedrock 같은 플랫폼과 LLM 방화벽 등의 보안 도구 활용 증가\\n\\n원하시면\\n- 특정 분야(예: 의료, 금융, 제조)나 지역별 최신 동향에 대해 더 자세한 요약이나 PDFs를 찾아 요약해 드리겠습니다.\\n- 또는 관심 분야의 구체적 이슈(거버넌스 프레임워크, 특정 규제 준수 체크리스트, 의료용 모델의 안전성 평가 방법 등)에 맞춘 자료를 찾아 정리해 드릴 수도 있어요.'}"
      ]
     },
     "execution_count": 12,
     "metadata": {},
     "output_type": "execute_result"
    }
   ],
   "source": [
    "agent_executor.invoke(\n",
    "    {\"input\": \"방금 말한 내용들 2023년 기준인데, 요즘엔 어떻게 됐대?\"}\n",
    ")"
   ]
  }
 ],
 "metadata": {
  "kernelspec": {
   "display_name": "Python 3",
   "language": "python",
   "name": "python3"
  },
  "language_info": {
   "codemirror_mode": {
    "name": "ipython",
    "version": 3
   },
   "file_extension": ".py",
   "mimetype": "text/x-python",
   "name": "python",
   "nbconvert_exporter": "python",
   "pygments_lexer": "ipython3",
   "version": "3.13.2"
  }
 },
 "nbformat": 4,
 "nbformat_minor": 5
}
