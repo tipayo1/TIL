{
 "cells": [
  {
   "cell_type": "markdown",
   "id": "c0ce7ed5",
   "metadata": {},
   "source": [
    "# Langchain Intro\n",
    "`01_langchain_intro.ipynb`\n",
    "\n",
    "- LLM powered 어플리케이션 제작을 위한 프레임 워크"
   ]
  },
  {
   "cell_type": "code",
   "execution_count": 1,
   "id": "3531271a",
   "metadata": {},
   "outputs": [
    {
     "name": "stdout",
     "output_type": "stream",
     "text": [
      "Note: you may need to restart the kernel to use updated packages.\n"
     ]
    },
    {
     "name": "stderr",
     "output_type": "stream",
     "text": [
      "\n",
      "[notice] A new release of pip is available: 24.3.1 -> 25.2\n",
      "[notice] To update, run: python.exe -m pip install --upgrade pip\n"
     ]
    }
   ],
   "source": [
    "%pip install -q langchain langchain-openai"
   ]
  },
  {
   "cell_type": "code",
   "execution_count": 2,
   "id": "8a625ba7",
   "metadata": {},
   "outputs": [
    {
     "data": {
      "text/plain": [
       "True"
      ]
     },
     "execution_count": 2,
     "metadata": {},
     "output_type": "execute_result"
    }
   ],
   "source": [
    "from dotenv import load_dotenv\n",
    "\n",
    "load_dotenv()"
   ]
  },
  {
   "cell_type": "code",
   "execution_count": 3,
   "id": "498961a3",
   "metadata": {},
   "outputs": [
    {
     "data": {
      "text/plain": [
       "AIMessage(content='Hello! Nice to meet you. What would you like to do today? I can show “Hello, world!” in different languages, explain its history, or help with any other questions or tasks.', additional_kwargs={'refusal': None}, response_metadata={'token_usage': {'completion_tokens': 561, 'prompt_tokens': 10, 'total_tokens': 571, 'completion_tokens_details': {'accepted_prediction_tokens': 0, 'audio_tokens': 0, 'reasoning_tokens': 512, 'rejected_prediction_tokens': 0}, 'prompt_tokens_details': {'audio_tokens': 0, 'cached_tokens': 0}}, 'model_name': 'gpt-5-nano-2025-08-07', 'system_fingerprint': None, 'id': 'chatcmpl-CArTBSorgCd4g8HmacyNMfmlBBE62', 'service_tier': 'default', 'finish_reason': 'stop', 'logprobs': None}, id='run--1be3b7ba-994c-4f22-9a41-f5671e882ef9-0', usage_metadata={'input_tokens': 10, 'output_tokens': 561, 'total_tokens': 571, 'input_token_details': {'audio': 0, 'cache_read': 0}, 'output_token_details': {'audio': 0, 'reasoning': 512}})"
      ]
     },
     "execution_count": 3,
     "metadata": {},
     "output_type": "execute_result"
    }
   ],
   "source": [
    "from langchain_openai import ChatOpenAI\n",
    "\n",
    "llm = ChatOpenAI(model=\"gpt-5-nano\")\n",
    "llm.invoke(\"Hello, world!\")"
   ]
  },
  {
   "cell_type": "code",
   "execution_count": 4,
   "id": "a10e0da7",
   "metadata": {},
   "outputs": [
    {
     "data": {
      "text/plain": [
       "'번역할 문장을 보내주시면 한국어로 번역해 드리겠습니다. 현재 입력이 비어 있어 번역할 내용이 없습니다. 번역하고 싶은 문장을 여기에 붙여 주세요. 예시: \"Hello, how are you?\" -> \"안녕, 잘 지내?\"'"
      ]
     },
     "execution_count": 4,
     "metadata": {},
     "output_type": "execute_result"
    }
   ],
   "source": [
    "# 만약 우리가, 외국어로 메세지가 들어오면, 한국어로 번역을 해주는 AI를 만들고 싶다면?\n",
    "\n",
    "msg = input(\"외국어를 넣으세요\")\n",
    "\n",
    "res = llm.invoke(f\"한국어로 번역해줘: {msg}\")\n",
    "\n",
    "res.content"
   ]
  },
  {
   "cell_type": "code",
   "execution_count": 5,
   "id": "f349dcd0",
   "metadata": {},
   "outputs": [
    {
     "data": {
      "text/plain": [
       "AIMessage(content='좋아요! 랭체인(LangChain)과 랭그래프(LangGraph)를 함께 배우면 LLM을 활용한 응용을 훨씬 체계적으로 설계할 수 있어요. 아래에 학습 로드맵과 바로 시작할 수 있는 가이드를 정리했습니다. 필요에 맞춰 부분만 골라서 진행해도 좋습니다.\\n\\n1) 먼저 이해하기: 랭체인 vs 랭그래프\\n- 랭체인(LangChain): LLM 기반 애플리케이션을 쉽게 구성하는 프레임워크예요. 프롬프트 설계, 체인(LMChain, Tools 체인 등), 벡터 저장소와의 연동, 메모리(상대 대화 맥락 저장) 등 다양한 구성 요소를 다룹니다.\\n- 랭그래프(LangGraph): 랭체인 생태계에서 그래프 형태의 흐름으로 LLM 작업을 설계하고 실행하는 도구 또는 방식입니다. 노드(node)와 간선(edge)으로 여러 단계의 의사결정 흐름, 조건부 분기, 병렬 처리 등을 그래프 형태로 표현하고 실행하는 데 활용합니다. 직관적으로 다단계 계획을 시각화하고 재사용 가능한 구성요소로 관리하는 데 도움이 됩니다.\\n- 목적: 랭체인은 “프롬프트와 도구를 연결하는 실행 엔진”이고, 랭그래프는 그 실행 흐름을 그래프 형태로 설계하고 조합하는 도구로 이해하면 좋습니다.\\n\\n2) 준비물과 기본 환경\\n- 프로그래밍 언어: Python을 권장합니다. (JS/TypeScript도 가능하지만, 먼저 Python으로 시작하는 것이 일반적이에요.)\\n- 파이썬 버전: 3.8 이상 권장\\n- 필수 도구: Python 가상환경(Virtualenv) 또는 conda\\n- 설치 예시(가상환경 사용 권장):\\n  - python -m venv venv\\n  - source venv/bin/activate (Windows는 venv\\\\Scripts\\\\activate)\\n  - pip install --upgrade pip\\n  - pip install langchain openai chromadb\\n- API 키: OpenAI API 키를 준비해 환경변수에 설정\\n  - export OPENAI_API_KEY=your_key (macOS/Linux)\\n  - set OPENAI_API_KEY=your_key (Windows)\\n- 학습에 필요한 기본 지식\\n  - 파이썬 기본 문법\\n  - 기본적인 REST API 호출 이해\\n  - LLM 프롬프트 설계의 기본 원리\\n\\n3) 4주 학습 로드맵 (실습 위주)\\n주차별 목표와 주요 활동을 제안합니다. 필요에 따라 기간은 조정해도 좋아요.\\n\\n1주차: 랭체인 기초 다지기\\n- 목표: LangChain의 기본 구성요소를 이해하고 간단한 체인을 만들어 보기\\n- 활동\\n  - 공식 문서의 Getting Started 섹션 읽기\\n  - 간단한 LLMChain 예제 따라하기: 프롬프트 템플릿 만들고, LLM에 입력해 출력 받기\\n  - 메모리(간단한 대화 기억) 개념 이해와 간단한 예제 실습\\n- 산출물\\n  - 간단한 대화형 체인: 사용자의 이름을 받아 인사말을 생성하는 체인\\n\\n2주차: 도구(Tools)와 벡터 저장소 기초\\n- 목표: 도구를 호출하는 체인과 벡터 저장소를 통해 정보 검색을 연결하기\\n- 활동\\n  - LangChain의 도구(예: 웹 검색, 파일 읽기 등) 사용법 익히기\\n  - 벡터 저장소(Chroma, FAISS 등) 기본 사용법 실습\\n  - 간단한 문서 QA 파이프라인 구성: 문서를 임베딩하고 사용자 질의에 대한 답찾기\\n- 산출물\\n  - 간단한 문서 QA 파이프라인(온디바이스/로컬 문서를 대상으로)\\n\\n3주차: 랭그래프의 개념 이해와 간단 구현 아이디어\\n- 목표: 그래프 기반 흐름의 아이디어를 이해하고 작은 예제로 체험하기\\n- 활동\\n  - 랭그래프가 다루는 그래프 구조의 의의(노드: 작업/프롬프트, 간선: 흐름/의존성) 이해\\n  - 간단한 그래프 설계: 예를 들어 “질문 → 관련 정보 수집 → 요약 → 최종 답변”과 같은 흐름을 노드로 표현\\n  - 실제 구현은 라이브러리 API에 맞춰 간단한 예제로 시작(API가 제공된다면 노드/에지 구성 예시를 따라하기)\\n- 산출물\\n  - 간단한 그래프 흐름 도면 또는 코드 스니펫(추상적 수준)\\n\\n4주차: 실전 프로젝트 구상 및 capstone\\n- 목표: 실제 문제에 랭체인+랭그래프를 적용해 보기\\n- 활동\\n  - 주제 선정: 예) 회사 내부 매뉴얼 QA 챗봇, 문서 요약 파이프라인, 일정 계획 도우미 등\\n  - 그래프 기반 플래너를 사용해 다단계 처리 흐름 설계\\n  - 벡터 검색/메모리와 그래프 흐름을 연결해 엔드-투-엔드 파이프라인 구축\\n- 산출물\\n  - 작동하는 엔드-투-엔드 샘플 애플리케이션과 간단한 문서로 정리된 아키텍처\\n\\n4) 실습 아이디어\\n- 아이디어 A: 문서 QA 플로우\\n  - 입력: 사용자의 질문\\n  - 흐름: 질문 → 벡터 검색으로 관련 문서 찾기 → 간단한 요약/추출 → LLM으로 답변 생성\\n  - 그래프 요소: 검색 노드, 요약 노드, 최종 답변 노드\\n- 아이디어 B: 다단계 의사결정 도우미\\n  - 입력: 사용자 목표(예: 여행 일정 계획)\\n  - 흐름: 목표 분석 → 필요한 정보 수집 → 정보를 바탕으로 대안 생성 → 최종 제안\\n  - 그래프 요소: 각 단계 노드, 분기 조건(예: 예/아니오)\\n\\n5) 랭그래프를 실제로 다루는 방법(실전 가이드)\\n- 개념 이해\\n  - 그래프의 노드와 간선이 의미하는 바를 명확히 정의\\n  - 실행 순서, 의존성, 조건부 분기를 그래프로 표현\\n- 실무 팁\\n  - 재사용 가능한 노드 템플릿 만들기: 프롬프트 템플릿, 도구 호출, 결과 처리의 표준화\\n  - 로깅과 디버깅: 각 노드의 입력/출력 로깅으로 그래프 실행 추적하기\\n  - 에러 처리: 노드 단위 실패에 대한 재시도 정책 설계\\n- 주의점\\n  - 너무 복잡한 그래프는 디버깅이 어렵습니다. 먼저 3~5개 노드의 단순 그래프부터 시작해 점진적으로 확장하세요.\\n\\n6) 추천 학습 자료 및 자원\\n- 공식 문서와 튜토리얼\\n  - LangChain 공식 문서: 프롬프트 설계, 체인, 도구, 메모리 등을 다룹니다. Getting Started부터 차근차근 따라가면 좋습니다.\\n  - LangGraph 관련 자료가 있다면 공식 문서의 그래프/플래너 섹션을 확인하세요. (라이브러리 버전에 따라 API가 다를 수 있습니다.)\\n- 커뮤니티와 샘플 코드\\n  - GitHub의 LangChain 저장소와 예제 코드\\n  - 블로그 튜토리얼과 YouTube 영상에서 단계별 예제 찾기\\n- 벡터 저장소와 도구\\n  - Chromadb, FAISS 등 벡터 저장소의 기본 사용법\\n  - 간단한 문서 데이터셋으로 벡터 검색 실습\\n\\n7) 바로 시작하는 간단한 예시(개념만 빠르게 익히기)\\n- 목표: 간단한 대화 체인 만들기\\n- 흐름\\n  - 프롬프트 템플릿 만들기: 사용자의 입력을 받아 간단한 텍스트 응답 생성\\n  - LLM 체인 구성: 프롬프트 템플릿과 LLM 연결\\n  - 실행: 사용자의 입력을 넣고 응답 받기\\n- 주의\\n  - 실제 코드 예시는 사용하는 LangChain 버전에 따라 import 경로와 클래스 이름이 다를 수 있습니다. 버전 확인 후 아래와 같은 형태로 시작하는 것을 권장합니다:\\n    - 예시 코드 구조(대략적인 아이디어):\\n      - 프롬프트 템플릿 만들기\\n      - LLM 연결하기\\n      - 체인 생성하고 입력으로 실행하기\\n  - 필요하다면 제가 당신의 파이썬 버전, 사용 중인 LangChain 버전(또는 환경)을 알려주시면 정확한 코드 샘플로 바로 도와드릴게요.\\n\\n8) 제가 도와드릴 수 있는 다음 단계\\n- 현재 목표에 맞춘 학습 계획 맞춤화\\n- 사용 중인 언어/환경에 맞춘 구체적인 코드 예시 제공\\n- 랭그래프를 실제 API나 라이브러리로 적용하는 구체 예제 (가능하면 버전 정보를 알려주세요)\\n- 프로젝트 아이디어를 실제 실행 가능한 1주 차 프로젝트로 구체화해 드리기\\n\\n원하시는 방향이 있으면 알려주시면 그에 맞춰 학습 계획을 더 구체적으로 맞춰 드릴게요. 예를 들어:\\n- Python으로 시작하고 싶은지, JavaScript/TypeScript로 시작하고 싶은지\\n- 학습 기간(예: 2주 집중, 4주 완성)\\n- 실제로 만들고 싶은 앱 아이디어(예: 문서 QA 봇, 업무 자동화 도우미 등)\\n\\n진행 방향을 알려주시면 바로 맞춤형 로드맵과 첫 번째 단계의 구체적인 실행 방법을 드리겠습니다.', additional_kwargs={'refusal': None}, response_metadata={'token_usage': {'completion_tokens': 5512, 'prompt_tokens': 43, 'total_tokens': 5555, 'completion_tokens_details': {'accepted_prediction_tokens': 0, 'audio_tokens': 0, 'reasoning_tokens': 3264, 'rejected_prediction_tokens': 0}, 'prompt_tokens_details': {'audio_tokens': 0, 'cached_tokens': 0}}, 'model_name': 'gpt-5-nano-2025-08-07', 'system_fingerprint': None, 'id': 'chatcmpl-CArUg1dp6yX3vlnxjbCM7sUCo79hJ', 'service_tier': 'default', 'finish_reason': 'stop', 'logprobs': None}, id='run--36812982-5a37-4d6b-a99b-89477c872b89-0', usage_metadata={'input_tokens': 43, 'output_tokens': 5512, 'total_tokens': 5555, 'input_token_details': {'audio': 0, 'cache_read': 0}, 'output_token_details': {'audio': 0, 'reasoning': 3264}})"
      ]
     },
     "execution_count": 5,
     "metadata": {},
     "output_type": "execute_result"
    }
   ],
   "source": [
    "from langchain_core.messages import HumanMessage, SystemMessage\n",
    "\n",
    "messages = [\n",
    "    # SystemMessage ==\n",
    "    # 채팅 세션의 전체적인 안내 사항\n",
    "    SystemMessage(content=\"당신은 성실하고 친절한 AI 과학자입니다.\"),\n",
    "    HumanMessage(content=\"랭체인과 랭그래프를 학습하고 싶어 도와줘\"),\n",
    "]\n",
    "\n",
    "llm.invoke(messages)"
   ]
  },
  {
   "cell_type": "code",
   "execution_count": 6,
   "id": "51a7164f",
   "metadata": {},
   "outputs": [
    {
     "data": {
      "text/plain": [
       "AIMessage(content='\"배부르다\"를 이탈리아어로 번역하면 주로 다음과 같습니다.\\n\\n- sazio (형용사) → 예: Sono sazio. / Mi sento sazio. (나는 배가 부르다 / 나는 배가 부르다고 느낀다)\\n- pieno (형용사, 다소 일반적) → 예: Sono pieno.\\n- Lo stomaco è pieno. (배가 가득 찼다, 문자적 표현)\\n\\n요약:\\n- 일반적 표현: sono sazio / mi sento sazio\\n- 조금 더 일반적 표현: sono pieno\\n- 문자적 표현이 필요하면: lo stomaco è pieno\\n\\n필요한 상황에 맞춰 예문을 더 원하시면 알려주세요.', additional_kwargs={'refusal': None}, response_metadata={'token_usage': {'completion_tokens': 1838, 'prompt_tokens': 26, 'total_tokens': 1864, 'completion_tokens_details': {'accepted_prediction_tokens': 0, 'audio_tokens': 0, 'reasoning_tokens': 1664, 'rejected_prediction_tokens': 0}, 'prompt_tokens_details': {'audio_tokens': 0, 'cached_tokens': 0}}, 'model_name': 'gpt-5-nano-2025-08-07', 'system_fingerprint': None, 'id': 'chatcmpl-CArV6UuTUFRY1OkZd3zdlVXETXixR', 'service_tier': 'default', 'finish_reason': 'stop', 'logprobs': None}, id='run--bc957615-66f2-4dd4-8c8b-69b21ed31232-0', usage_metadata={'input_tokens': 26, 'output_tokens': 1838, 'total_tokens': 1864, 'input_token_details': {'audio': 0, 'cache_read': 0}, 'output_token_details': {'audio': 0, 'reasoning': 1664}})"
      ]
     },
     "execution_count": 6,
     "metadata": {},
     "output_type": "execute_result"
    }
   ],
   "source": [
    "messages = [\n",
    "    # SystemMessage ==\n",
    "    # 채팅 세션의 전체적인 안내 사항\n",
    "    {\"role\": \"system\", \"content\": \"한국어를 이탈리어로 번역해줘\"},\n",
    "    {\"role\": \"human\", \"content\": \"배부르다\"},\n",
    "]\n",
    "\n",
    "llm.invoke(messages)"
   ]
  },
  {
   "cell_type": "code",
   "execution_count": 7,
   "id": "93b0da3a",
   "metadata": {},
   "outputs": [
    {
     "name": "stdout",
     "output_type": "stream",
     "text": [
      "|다|음| 중| 상황|에| 맞|게| 고|르면| 됩니다|.\n",
      "\n",
      "|-| 기본|적으로|:| Sono| pien|o|(|남|자|)| /| Sono| pien|a|(|여|자|)\n",
      "|-| 더| 자연|스럽|게| “|배|가| 부|르|다|”| 느낌|으로|:| Mi| sent|o| pien|o|(|남|자|)| /| Mi| sent|o| pien|a|(|여|자|)\n",
      "|-| 조금| 더| 강|한| 표현|:| Sono| sa|zio|(|남|자|)| /| Sono| sa|zia|(|여|자|)| /| Mi| sent|o| sa|zio|(|남|자|)| /| Mi| sent|o| sa|zia|(|여|자|)\n",
      "\n",
      "|필|요|한| 맥|락|이| 있|으면| 알려|주|면| 맞|춤|으로| 골|라|드|릴|게|요|.||"
     ]
    }
   ],
   "source": [
    "for token in llm.stream(messages):\n",
    "    print(token.content, end=\"|\")"
   ]
  },
  {
   "cell_type": "markdown",
   "id": "fc1ef2db",
   "metadata": {},
   "source": [
    "## Prompt Template\n",
    "- 고정된 문자열과 변수를 조합하여 프롬프트를 만드는 방법\n",
    "\n",
    "## Chain\n",
    "- Langchain의 각 구성요소를 묶어서(chaining) 하여 한번에 실행(invoke)할 수 있도록 하는 기능\n",
    "- `a | b | c` 형태로 나옴. 이건 Python 문법이 아니라 Langchain 문법(LCEL Lang-Chain-Expression-Language)"
   ]
  },
  {
   "cell_type": "code",
   "execution_count": 8,
   "id": "6eedca19",
   "metadata": {},
   "outputs": [
    {
     "data": {
      "text/plain": [
       "AIMessage(content='寿司を食べたいです。', additional_kwargs={'refusal': None}, response_metadata={'token_usage': {'completion_tokens': 657, 'prompt_tokens': 23, 'total_tokens': 680, 'completion_tokens_details': {'accepted_prediction_tokens': 0, 'audio_tokens': 0, 'reasoning_tokens': 640, 'rejected_prediction_tokens': 0}, 'prompt_tokens_details': {'audio_tokens': 0, 'cached_tokens': 0}}, 'model_name': 'gpt-5-nano-2025-08-07', 'system_fingerprint': None, 'id': 'chatcmpl-CArVQNqx967aV9vZ2tsKig6g8VsW8', 'service_tier': 'default', 'finish_reason': 'stop', 'logprobs': None}, id='run--2b0bb619-e5ab-4f62-bd11-a8948023cd2a-0', usage_metadata={'input_tokens': 23, 'output_tokens': 657, 'total_tokens': 680, 'input_token_details': {'audio': 0, 'cache_read': 0}, 'output_token_details': {'audio': 0, 'reasoning': 640}})"
      ]
     },
     "execution_count": 8,
     "metadata": {},
     "output_type": "execute_result"
    }
   ],
   "source": [
    "# 채팅을 할 경우에는 ChatPromptTemplate\n",
    "\n",
    "from langchain_core.prompts import ChatPromptTemplate\n",
    "\n",
    "messages = [\n",
    "    {\"role\": \"system\", \"content\": \"Translate Korean to {lang}\"},\n",
    "    {\"role\": \"human\", \"content\": \"{text}\"},\n",
    "]\n",
    "\n",
    "prompt_template = ChatPromptTemplate.from_messages(messages)\n",
    "\n",
    "prompt = prompt_template.invoke({\"lang\": \"일본어\", \"text\": \"초밥이 먹고싶다\"})\n",
    "\n",
    "llm.invoke(prompt)"
   ]
  },
  {
   "cell_type": "code",
   "execution_count": 9,
   "id": "3a58b9a0",
   "metadata": {},
   "outputs": [
    {
     "data": {
      "text/plain": [
       "AIMessage(content=\"I want to eat a burger.\\n\\n(Alternatively: I'm craving a burger. / I feel like eating a burger.)\", additional_kwargs={'refusal': None}, response_metadata={'token_usage': {'completion_tokens': 416, 'prompt_tokens': 21, 'total_tokens': 437, 'completion_tokens_details': {'accepted_prediction_tokens': 0, 'audio_tokens': 0, 'reasoning_tokens': 384, 'rejected_prediction_tokens': 0}, 'prompt_tokens_details': {'audio_tokens': 0, 'cached_tokens': 0}}, 'model_name': 'gpt-5-nano-2025-08-07', 'system_fingerprint': None, 'id': 'chatcmpl-CArVVyWgtunf31ALIPJuL93K7nyzG', 'service_tier': 'default', 'finish_reason': 'stop', 'logprobs': None}, id='run--aeeb579a-3285-4d60-a49f-e0f78c6b3422-0', usage_metadata={'input_tokens': 21, 'output_tokens': 416, 'total_tokens': 437, 'input_token_details': {'audio': 0, 'cache_read': 0}, 'output_token_details': {'audio': 0, 'reasoning': 384}})"
      ]
     },
     "execution_count": 9,
     "metadata": {},
     "output_type": "execute_result"
    }
   ],
   "source": [
    "prompt = prompt_template.invoke({\"lang\": \"영어\", \"text\": \"버거가 먹고싶다\"})\n",
    "llm.invoke(prompt)"
   ]
  },
  {
   "cell_type": "code",
   "execution_count": 10,
   "id": "859cefa8",
   "metadata": {},
   "outputs": [
    {
     "data": {
      "text/plain": [
       "'Translation: \"I want to eat kimchi stew.\" \\n\\nOptional natural variant: \"I\\'m craving kimchi jjigae.\"'"
      ]
     },
     "execution_count": 10,
     "metadata": {},
     "output_type": "execute_result"
    }
   ],
   "source": [
    "from langchain_core.output_parsers import StrOutputParser\n",
    "\n",
    "output_parser = StrOutputParser()\n",
    "\n",
    "chain = prompt_template | llm | output_parser\n",
    "\n",
    "chain.invoke({\"lang\": \"영어\", \"text\": \"김치찌개가 먹고싶다\"})"
   ]
  },
  {
   "cell_type": "code",
   "execution_count": 11,
   "id": "2a1c9733",
   "metadata": {},
   "outputs": [
    {
     "name": "stdout",
     "output_type": "stream",
     "text": [
      "다음은 2025년 전반기(1월~6월) 매출 분석을 위한 EDA(Exploratory Data Analysis) 단계별 로드맵입니다. 각 단계의 목표, 입력 데이터, 주요 작업, 기대 산출물을 함께 제시합니다. 필요에 따라 순서를 조정해도 무방합니다.\n",
      "\n",
      "1) 준비 및 성공 기준 정의\n",
      "- 목적\n",
      "  - 2025년 1~6월 매출 현황 파악 및 매출에 영향을 주는 요인 식별\n",
      "  - 비즈니스 의사결정에 바로 활용 가능한 인사이트 확보\n",
      "- 입력/가정\n",
      "  - 분석 범위: 2025-01-01 ~ 2025-06-30\n",
      "  - 매출의 정의: 총매출(net revenue 여부 결정), 포함 항목(주문건수, 매출액, 할인, 반품 등)\n",
      "- 산출물\n",
      "  - 분석 목표와 success criteria 문서(핵심 KPI 정의, 수용기준)\n",
      "  - 데이터 요구사항 요약\n",
      "\n",
      "2) 데이터 수집 및 이해\n",
      "- 입력 데이터 소스\n",
      "  - ERP/회계 시스템, POS/오프라인 판매, 온라인 몰, 마케팅 플랫폼(프로모션 데이터)\n",
      "- 주요 필드 예시\n",
      "  - 거래/매출: transaction_id, order_date, order_id, revenue, net_revenue, currency, discount_amount, tax, returns\n",
      "  - 품목/상품: product_id, category, sub_category, price, quantity\n",
      "  - 고객/채널: customer_id, region, country, channel (온라인/오프라인/제휴), store_id\n",
      "  - 시간/캘린더: date, week_of_year, month, quarter\n",
      "- 산출물\n",
      "  - 데이터 맵(필드 정의, 출처, 주기/정합성 이슈)\n",
      "  - 데이터 품질 이슈 로그(결측, 중복, 불일치 이슈 목록)\n",
      "\n",
      "3) 데이터 품질 점검\n",
      "- 점검 항목\n",
      "  - 누락값, 중복 주문, 날짜/통화 포맷 일관성, 단위(통화) 일관성\n",
      "  - 기간 필터링 정확성(jan-Jun 2025만 포함)\n",
      "  - 다중 소스 간 매출 합계의 일관성 확인\n",
      "- 산출물\n",
      "  - 데이터 품질 리포트(이슈 목록과 우선순위)\n",
      "  - 필요한 정제/정합 규칙 문서\n",
      "\n",
      "4) 데이터 정제 및 전처리\n",
      "- 핵심 작업\n",
      "  - 통합 스키마 설계: fact(매출)와 차원(dimension) 테이블 구성\n",
      "  - 통화/단위 정합, 날짜 표준화\n",
      "  - 파생 변수 생성: month, quarter, week_of_year, AOV(average order value), net_revenue, discount_rate\n",
      "  - 반환/환불 처리 로직 반영 여부 결정\n",
      "- 산출물\n",
      "  - 정제된 분석용 데이터셋(클렌즈 데이터)\n",
      "  - 파생 변수 목록과 정의\n",
      "\n",
      "5) 기초 요약 및 KPI 정의\n",
      "- KPI 예시\n",
      "  - 총 매출(net revenue), 총 매출 건수, 주문수, 평균 주문 가치(AOV)\n",
      "  - 반품률, 할인/프로모션액, 순매출(net revenue after returns)\n",
      "  - 채널별/지역별/카테고리별 매출\n",
      "  - 신규고객 대비 재구매 매출 비중(가능한 경우)\n",
      "- 산출물\n",
      "  - KPI 대시보드의 기본 표/그래프 구성안\n",
      "  - 요약 표(범주별 매출, 성장률)\n",
      "\n",
      "6) 시계열 탐색 및 계절성 분석\n",
      "- 분석 포인트\n",
      "  - 월별/주별 매출 트렌드 확인\n",
      "  - 계절성/추세/잔차 분해 및 이벤트 효과(프로모션, 신제품 런칭, 공휴일)\n",
      "  - 이상치가 시계열에 미치는 영향 탐지\n",
      "- 산출물\n",
      "  - 시계열 그래프, 분해 차트, 이벤트별 매출 변화 요약\n",
      "\n",
      "7) 세그먼트 분석 및 비교\n",
      "- 세그먼트 정의\n",
      "  - 채널(온라인/오프라인/제휴), 지역/시장, 카테고리, 가격대/브랜드군\n",
      "- 분석 방법\n",
      "  - 세그먼트별 매출/수익 비교, 상대 기여도(rank), Top-N 제품/카테고리 식별\n",
      "  - 교차분석 표(예: 채널 x 지역, 채널 x 카테고리)\n",
      "- 산출물\n",
      "  - 세그먼트 리포트, 시각화 대시보드의 세그먼트 뷰\n",
      "\n",
      "8) 매출 영향 요인 탐색\n",
      "- 후보 요인\n",
      "  - 할인 규모, 프로모션 기간, 쿠폰 사용 여부, 배송/마진 정책\n",
      "  - 마케팅 캠페인과 매출의 시차 효과\n",
      "- 분석 방법\n",
      "  - 요인별 매출 차이 비교, 이벤트/프로모션 전후 차이 분석\n",
      "  - 상관관계/집단 비교(전후 비교, 그룹별 차이)\n",
      "- 산출물\n",
      "  - 영향 요인 인사이트 및 권고사항 초안\n",
      "\n",
      "9) 이상치 탐지 및 원인 진단\n",
      "- 방식\n",
      "  - 급격한 매출 급등/급락 이벤트 식별\n",
      "  - 이벤트 로그(프로모션, 시스템 이슈, 재고 문제)와 매출 간의 연결 고리 확인\n",
      "- 산출물\n",
      "  - 이슈 리스트와 원인 가설, 필요 시 조치 제안\n",
      "\n",
      "10) 시각화 설계 및 대시보드 구성\n",
      "- 대시보드 구성 방향\n",
      "  - Executive View: 핵심 KPI, 트렌드 한눈에 보기\n",
      "  - 마케팅/세일즈 뷰: 세그먼트별 상세 차트(채널, 지역, 카테고리)\n",
      "- 시각화 예시\n",
      "  - 시계열 선 그래프, 바 차트, 히트맵, 트리맵/패널, 간단한 funnel\n",
      "- 산출물\n",
      "  - 대시보드 프로토타입/초안, 보고용 스토리텔링 자료\n",
      "\n",
      "11) 커뮤니케이션 및 스토리텔링\n",
      "- 핵심 인사이트 도출\n",
      "  - 3~5개의 비즈니스 임팩트 있는 인사이트\n",
      "- 권고사항 제안\n",
      "  - 바로 실행 가능한 마케팅/세일즈 제안 및 리스크 관리\n",
      "- 산출물\n",
      "  - 발표자료 초안, 보고서 초안\n",
      "\n",
      "12) 한계점, 가정사항 및 위험요인 정리\n",
      "- 데이터 한계, 샘플링 편향, 기간 내 이벤트의 영향 등 명시\n",
      "- 산출물에 대한 신뢰도와 일반화의 한계\n",
      "\n",
      "13) 다음 단계 제안 및 로드맵\n",
      "- 데이터 품질 개선 계획, 자동화/주기화 리포트 제안\n",
      "- 향후 분석 확장 방향(예: 2H 2025 예측/목표 setting, 고객 생애 가치(LTV) 분석)\n",
      "\n",
      "질문 및 데이터 요구사항 체크리스트\n",
      "- 분석 목적을 한두 문장으로 요약해 주세요. 어떤 의사결정에 도움을 원하나요?\n",
      "- 매출 정의는 Net Revenue로 하나요, Gross Revenue로 보나요? 반품/할인/세금 처리 방식은?\n",
      "- 기간 및 데이터 범위: 2025-01-01 ~ 2025-06-30 맞나요? 누락 기간은?\n",
      "- 데이터 소스는 몇 군데인가요? ERP, POS, 온라인, 마케팅 플랫폼의 필드 차이가 있나요?\n",
      "- 필요한 차원/지표는 무엇이 중요합니까? (예: 채널별 매출, 지역별 매출, 카테고리별 매출, AOV, 재구매율 등)\n",
      "- 환율/통화: 여러 통화가 사용되나요? 통화 통일 규칙은 어떻게 되나요?\n",
      "- 데이터 접근 방식: SQL, Python(Pandas), R, BI 도구 중 선호하는 도구가 있나요?\n",
      "- 기대 산출물 형식: 보고서, 프리젠테이션, 대시보드, 코드 스니펫 중 우선순위가 있나요?\n",
      "\n",
      "참고: 이 로드맵은 EDA 위주로 설계했습니다. 필요 시 예측 모델링이나 특정 KPI 예측은 2단계로 확장해 수행할 수 있습니다. 원하시면 위의 각 단계에 대해 구체적인 산출물 템플릿(리스크 로그, 파생변수 목록, 대시보드 구성 스키마 등)이나 샘플 코드 스니펫(SQL/Python)도 함께 제공해 드리겠습니다.\n"
     ]
    }
   ],
   "source": [
    "# 단발성 명령 수행 PromptTemplate\n",
    "\n",
    "from langchain_core.prompts import PromptTemplate\n",
    "\n",
    "template = \"\"\"\n",
    "당신은 클라이언트 요구사항을 분석해서 단계를 나눠주는 데이터분석 전문가 입니다. \n",
    "사용자의 질문을 EDA할 수 있도록 단계를 나눠주세요\n",
    "\n",
    "상황: {question}\n",
    "\n",
    "\"\"\"\n",
    "\n",
    "prompt = PromptTemplate.from_template(template)\n",
    "\n",
    "chain = prompt | llm | output_parser\n",
    "\n",
    "res = chain.invoke({'question': '이번 2025년 전반기 매출 분석'})\n",
    "\n",
    "print(res)"
   ]
  },
  {
   "cell_type": "code",
   "execution_count": 12,
   "id": "dde28cfb",
   "metadata": {},
   "outputs": [
    {
     "name": "stdout",
     "output_type": "stream",
     "text": [
      "다음은 2025년 전반기 매출 분석(EDA)을 효과적으로 수행하기 위한 단계별 가이드입니다. 각 단계마다 핵심 활동과 산출물을 함께 제시합니다.\n",
      "\n",
      "1) 목표 재확인 및 KPI 정의\n",
      "- 분석 목표 확인: 2025년 상반기 매출 현황 파악, 성장 요인 식별, 문제 영역(매출 부진 영역) 파악 등\n",
      "- KPI 정의: 매출(revenue), 매출 총이익(margin), 평균 주문 가치(AOV), 판매 수량(qty), 주문 건수(transactions), 신규/재구매 고객 비율, 채널별·지역별 매출, 카테고리별 매출 비중\n",
      "- 비교 기준: 2024년 상반기(H1 2024)와의 비교, 예산/목표 대비 실제\n",
      "\n",
      "2) 데이터 소스 및 스키마 파악\n",
      "- 필요한 데이터 소스: ERP/회계 시스템, CRM, e커머스 로그, 마케팅 데이터(캠페인), 재고 시스템 등\n",
      "- 주요 필드 예시: order_id, order_date, customer_id, region, channel, product_id, category, subcategory, quantity, unit_price, discount, tax, total_price, cost, margin, promo_flag, campaign_id\n",
      "- 기간 범위: 2025-01-01 ~ 2025-06-30\n",
      "- 데이터 품질 규칙: 통화 통일(동일 통화), 날짜 형식, 중복 여부, 누락 값 관리 정책\n",
      "\n",
      "3) 데이터 수집/통합 전략\n",
      "- ETL/ELT 설계: 데이터 추출 주기(일간/주간), 변환 로직, 적재 위치\n",
      "- 키(조인 열) 정의: order_id, product_id, customer_id, date 차원 키 등\n",
      "- 데이터 흐름 다이어그램 작성 및 데이터 출처 간 계보(lineage) 기록\n",
      "- 데이터 사전(데이터 딕셔너리) 작성\n",
      "\n",
      "4) 데이터 품질 점검 및 정제\n",
      "- 품질 점검 항목: 누락값 비율, 중복 레코드, 날짜 범위, 금액 음수 여부, 단가 단위의 일관성\n",
      "- 정제 작업: 누락값 처리 전략(예: 제거/대체), 중복 제거, 이상치 탐지 및 처리, 통화/화폐 변환, 날짜 및 시간대 표준화\n",
      "- 결측치 및 이상치의 비즈니스 영향도 주석 달기\n",
      "\n",
      "5) 데이터 전처리 및 차원/지표 구성\n",
      "- 기간 차원 생성: 월(mth), 주(week), 분기(quarter), 상반기(H1) 플래그 등\n",
      "- 기본 지표 파생: revenue = sum(price * quantity - 할인), gross_margin = revenue - cost, AOV = revenue / 주문건수, 판매량, 주문당 이익 등\n",
      "- 카테고리/채널/지역 결합된 차원 생성: channel_region, product_category_agg 등\n",
      "- 통화/가격 스케일링, 할인 정책 플래그(promo_flag) 등 비즈니스 맥락 반영\n",
      "\n",
      "6) 피처 엔지니어링 및 데이터 마이닝 준비\n",
      "- 시간 단위의 피처: rolling revenue/GM(전년 동기 대비), YoY 성장률, MOM 성장률\n",
      "- 고객 기반 피처: 신규 고객 대비 재구매율, 고객당 매출, 재방문 주기\n",
      "- 세그먼트 피처: 채널별/지역별/카테고리별 마켓 세그먼트\n",
      "- 캠페인/프로모션 피처: 프로모션 여부, 프로모션 유형, 할인율 규모와 매출 간 상관성\n",
      "\n",
      "7) EDA 설계 및 분석 계획(구체적 분석 질문)\n",
      "- 단변량 분석: 매출, GM, 가격 분포 및 요약 통계\n",
      "- 이변량 분석: 매출 vs 채널, 매출 vs 지역, 매출 vs 카테고리 간 비교\n",
      "- 시계열 분석: 월별/주별 매출 추세, 계절성, 트렌드, 이상값 탐지\n",
      "- 카테고리/채널/지역별 혼합 분석: 매출 구성비, 상위 카테고리/상품의 기여도\n",
      "- 고객 분석: 신규/재구매 비율, 고객당 매출, 재방문 주기\n",
      "- 가격/프로모션 분석: 프로모션 시점의 매출 급증 여부, 할인폭과 매출의 상관성\n",
      "- 가설 설정 예시:\n",
      "  - H1: 2025년 상반기 매출은 2024년 상반기 대비 증가했다.\n",
      "  - H2: 특정 채널(A채널)과 지역에서 매출 기여도가 큰가?\n",
      "  - H3: 특정 카테고리의 프로모션이 매출 상승에 크게 기여했는가?\n",
      "\n",
      "8) 시각화 및 대시보드 설계\n",
      "- 추천 시각화:\n",
      "  - 시계열: 월별 매출 추세선 그래프, 분해된 계절성 그래프\n",
      "  - 비교: 전년 동기 대비 변화율 바 차트\n",
      "  - 구성: 채널/지역별 매출 핫스팟(히트맵/누적막대)\n",
      "  - 카테고리/상품: 비중/상위 N 품목 도표\n",
      "  - 고객: 신규 vs 재구매 비율, 고객당 매출 분포(CDF/박스플롯)\n",
      "- 대시보드 구성 아이디어: 상반기 요약 카드, 채널별/지역별 요약, 주요 이슈에 대한 코멘트 섹션, 주간 업데이트 알림\n",
      "- 시각화 도구 제안: Python(pandas, seaborn/m Plotly), R(tidyverse), BI 도구(Qlik/Power BI/Tableau) 중 환경에 맞는 도구 선택\n",
      "\n",
      "9) 인사이트 도출 및 의사결정 포인트\n",
      "- 비즈니스 의사결정에 바로 연결되는 인사이트 도출:\n",
      "  - 어떤 채널/지역/카테고리에서 매출 상승/하락이 두드러지는가?\n",
      "  - 프로모션 시점이 매출에 미친 영향의 크기와 지속성은 무엇인가?\n",
      "  - AOV 및 마진 개선을 위한 가격/프로모션 전략의 방향성은?\n",
      "- 우선순위 목록과 구체적 실행 제안(예: 특정 채널의 투자 확대, 특정 카테고리의 재고 조정 등)\n",
      "\n",
      "10) 품질 관리 및 재현성 확보\n",
      "- 재현 가능한 코드베이스: 모듈화된 파이프라인, 주석/메타데이터 포함\n",
      "- 데이터 사전/데이터 딕셔너리 공유\n",
      "- 버전 관리(Git), 실행 환경 기록(라이브러리 버전, 파이썬/R 버전)\n",
      "- 보고서 형식 표준화: 요약, 방법론, 한계, 재현 방법 포함\n",
      "\n",
      "11) 산출물 및 전달물 콘텐츠\n",
      "- 분석 보고서 초안: 요약 KPI, 핵심 인사이트, 시각화 다이어그램, 실행 권고안\n",
      "- 데이터 사전/메타데이터 문서: 데이터 원천, 변수 정의, 주의점\n",
      "- 코드 저장소: 데이터 파이프라인/EDA 노트북 또는 스크립트\n",
      "- 대시보드 샘플(스냅샷 또는 공유 가능한 링크)\n",
      "\n",
      "12) 다음 단계 및 확장 가능성\n",
      "- 2025년 하반기 예측/시나리오 분석(수요 예측 모델 도입 검토)\n",
      "- 외부 요인(프로모션 일정, 이벤트, 경제 환경) 반영한 시나리오 분석\n",
      "- 비즈니스 부서 간 협업을 위한 정기 업데이트 루프 설계(주간/월간 리포트)\n",
      "\n",
      "작업 흐름 예시(타임라인 제안)\n",
      "- 주차 1-2: 목표 확정, 데이터 소스 파악, 스키마 정리, 데이터 거버넌스 수립\n",
      "- 주차 3-4: 데이터 수집/통합, 품질 점검, 기본 전처리\n",
      "- 주차 5-6: 피처 엔지니어링, EDA 설계 확정, 시각화 계획\n",
      "- 주차 7-8: 본 분석 수행, 시각화 대시보드 작성, 인사이트 도출\n",
      "- 주차 9: 보고서 정리, 재현성 검토, 산출물 전달\n",
      "\n",
      "필요 시 제공 가능한 산출물 템플릿\n",
      "- KPI 정의서(목표, 수식, 데이터 소스)\n",
      "- 데이터 사전(데이터 딕셔너리) 예시\n",
      "- EDA 리포트 뼈대(섹션별 목차 및 포함될 그래프 목록)\n",
      "- 코드 구조 예시(모듈화된 파이프라인/노트북 구성)\n",
      "\n",
      "원하시면 위 계획을 귀사의 데이터 환경(SQL/R/Python/BI 도구)과 실무 일정에 맞춰 구체적인 체크리스트와 실행 계획으로 맞춤화해 드리겠습니다. 어떤 도구를 주로 사용하고 계신가요? 또한 2024년 상반기와의 비교를 포함할지, 특정 채널/지역에 더 중점을 둘지 알려주시면 더 세세하게 다듬어 드리겠습니다."
     ]
    }
   ],
   "source": [
    "# chain 은 Runnable 객체이기 떄문에 invoke\n",
    "for token in chain.stream({'question': '이번 2025년 전반기 매출 분석'}):\n",
    "    print(token, end='', flush=True)"
   ]
  },
  {
   "cell_type": "code",
   "execution_count": 15,
   "id": "c5577895",
   "metadata": {},
   "outputs": [
    {
     "data": {
      "text/plain": [
       "['LangChain은 대형 언어 모델(LLM)을 이용한 애플리케이션을 쉽게 구축하도록 돕는 프레임워크입니다.  \\n프롬프트 템플릿, LLM, 에이전트, 메모리, 도구(툴) 등을 체인으로 연결해 복잡한 대화 흐름이나 자동화를 구현할 수 있으며, 에이전트가 상황에 맞는 동작을 스스로 선택하게 만들 수 있습니다.  \\n또한 벡터 저장소와 리트리벌, 다양한 데이터 소스와의 연동으로 기억과 검색을 관리하고, 챗봇·Q&A·문서 요약 등 LLM 기반 애플리케이션의 개발 생산성을 높이는 도구입니다.',\n",
       " 'LangSmith는 LangChain 생태계의 로깅·디버깅·평가 플랫폼으로, LLM 체인 실행의 입력/출력, 프롬프트 템플릿, 도구 호출 등을 기록하고 재현할 수 있게 해준다. 이 도구를 통해 모델의 동작을 재현 가능하게 저장하고, 에러를 추적하며, 서로 다른 실행 간의 성능 비교와 샘플 재생이 가능하다. 파이썬이나 자바스크립트 SDK를 통해 Run과 Event를 수집하고, 대시보드에서 실험 결과를 시각화해 팀과 협업할 수 있다.',\n",
       " 'Langgraph는 텍스트 데이터를 그래프 형태로 표현하는 언어 인공지능 프레임워크다. 이 프레워크에서 단어, 구, 문장 구성 요소는 노드로, 어휘 관계나 구문 의존성 같은 관계는 간선으로 표현되어 언어를 그래프 구조로 다룬다. 그래프 신경망(GNN) 등의 기법을 사용해 이 그래프에서 의미 관계를 학습하고 다국어 처리, 정보추출, 기계 번역 등 다양한 NLP 태스크의 성능 향상과 지식의 통합을 지향한다.']"
      ]
     },
     "execution_count": 15,
     "metadata": {},
     "output_type": "execute_result"
    }
   ],
   "source": [
    "prompt = PromptTemplate.from_template('{topic}에 대해서 3문장으로 설명해줘')\n",
    "llm = ChatOpenAI(model='gpt-5-nano')\n",
    "\n",
    "chain = prompt | llm | StrOutputParser()\n",
    "\n",
    "chain.batch([\n",
    "    {'topic': 'Langchain'},\n",
    "    {'topic': 'Langsmith'},\n",
    "    {'topic': 'Langgraph'},\n",
    "])"
   ]
  }
 ],
 "metadata": {
  "kernelspec": {
   "display_name": "Python 3",
   "language": "python",
   "name": "python3"
  },
  "language_info": {
   "codemirror_mode": {
    "name": "ipython",
    "version": 3
   },
   "file_extension": ".py",
   "mimetype": "text/x-python",
   "name": "python",
   "nbconvert_exporter": "python",
   "pygments_lexer": "ipython3",
   "version": "3.13.2"
  }
 },
 "nbformat": 4,
 "nbformat_minor": 5
}
