{
 "cells": [
  {
   "cell_type": "markdown",
   "id": "97e536c6",
   "metadata": {},
   "source": [
    "# 관심있는 데이터소스로 RAG"
   ]
  },
  {
   "cell_type": "code",
   "execution_count": 1,
   "id": "a860b3b6",
   "metadata": {},
   "outputs": [
    {
     "data": {
      "text/plain": [
       "True"
      ]
     },
     "execution_count": 1,
     "metadata": {},
     "output_type": "execute_result"
    }
   ],
   "source": [
    "from dotenv import load_dotenv\n",
    "\n",
    "load_dotenv()"
   ]
  },
  {
   "cell_type": "code",
   "execution_count": 2,
   "id": "17eecc85",
   "metadata": {},
   "outputs": [],
   "source": [
    "from langchain_core.documents import Document\n",
    "\n",
    "documents = [\n",
    "    Document(\n",
    "        page_content=\"Dogs are great companions, known for their loyalty and friendliness.\",\n",
    "        metadata={\"source\": \"mammal-pets-doc\"},\n",
    "    ),\n",
    "    Document(\n",
    "        page_content=\"Cats are independent pets that often enjoy their own space.\",\n",
    "        metadata={\"source\": \"mammal-pets-doc\"},\n",
    "    ),\n",
    "    Document(\n",
    "        page_content=\"Goldfish are popular pets for beginners, requiring relatively simple care.\",\n",
    "        metadata={\"source\": \"fish-pets-doc\"},\n",
    "    ),\n",
    "    Document(\n",
    "        page_content=\"Parrots are intelligent birds capable of mimicking human speech.\",\n",
    "        metadata={\"source\": \"bird-pets-doc\"},\n",
    "    ),\n",
    "    Document(\n",
    "        page_content=\"Rabbits are social animals that need plenty of space to hop around.\",\n",
    "        metadata={\"source\": \"mammal-pets-doc\"},\n",
    "    ),\n",
    "]"
   ]
  },
  {
   "cell_type": "code",
   "execution_count": null,
   "id": "9ab0bda0",
   "metadata": {},
   "outputs": [],
   "source": [
    "from langchain_openai import OpenAIEmbeddings\n",
    "from langchain_community.vectorstores import FAISS\n",
    "\n",
    "# OpenAI 임베딩 모델\n",
    "embedding = OpenAIEmbeddings(model=\"text-embedding-3-small\")\n",
    "\n",
    "# VectorStore 에 임베딩 후 저장(In memory)\n",
    "vectorstore = FAISS.from_documents(documents, embedding=embedding)"
   ]
  },
  {
   "cell_type": "code",
   "execution_count": 4,
   "id": "435357ba",
   "metadata": {},
   "outputs": [
    {
     "name": "stdout",
     "output_type": "stream",
     "text": [
      "총 로드한 페이지 수: 960\n"
     ]
    }
   ],
   "source": [
    "# 1. Load\n",
    "import glob\n",
    "from langchain_community.document_loaders import PyMuPDFLoader\n",
    "\n",
    "file_list = glob.glob(\"./mystudy/*.pdf\")  # mystudy 폴더 내 모든 pdf 파일 경로 리스트\n",
    "all_docs = []\n",
    "\n",
    "for file_path in file_list:\n",
    "    loader = PyMuPDFLoader(file_path)\n",
    "    docs = loader.load()\n",
    "    all_docs.extend(docs)\n",
    "\n",
    "print(\"총 로드한 페이지 수:\", len(all_docs))"
   ]
  },
  {
   "cell_type": "code",
   "execution_count": 5,
   "id": "5bfa64c4",
   "metadata": {},
   "outputs": [
    {
     "name": "stdout",
     "output_type": "stream",
     "text": [
      "분할 후 청크 수 4235\n"
     ]
    }
   ],
   "source": [
    "# 2. Split\n",
    "from langchain_text_splitters import RecursiveCharacterTextSplitter\n",
    "\n",
    "# 500글자당 1 청크 / 50글자는 겹치게 나눈다.\n",
    "text_splitter = RecursiveCharacterTextSplitter(chunk_size=500, chunk_overlap=50)\n",
    "split_docs = text_splitter.split_documents(all_docs)\n",
    "\n",
    "print(\"분할 후 청크 수\", len(split_docs))"
   ]
  },
  {
   "cell_type": "code",
   "execution_count": 6,
   "id": "b291620f",
   "metadata": {},
   "outputs": [
    {
     "data": {
      "text/plain": [
       "[Document(id='669bfc32-b293-4480-bba5-74829ffb6e89', metadata={'producer': 'Skia/PDF m127', 'creator': 'Chromium', 'creationdate': '2025-06-09T05:34:42+00:00', 'source': './mystudy\\\\멀티에이전트 시스템 취업 준비 완벽 가이드.pdf', 'file_path': './mystudy\\\\멀티에이전트 시스템 취업 준비 완벽 가이드.pdf', 'total_pages': 4, 'format': 'PDF 1.4', 'title': '', 'author': '', 'subject': '', 'keywords': '', 'moddate': '2025-06-09T05:34:42+00:00', 'trapped': '', 'modDate': \"D:20250609053442+00'00'\", 'creationDate': \"D:20250609053442+00'00'\", 'page': 1}, page_content='수 있게 하며, 감독자 에이전트가 이들을 연결하는 역할을 합니다\\n.\\nAWS에서 제안하는 도메인 인식 데이터 전처리 파이프라인은 실무에서 활용할 수 있는 고급 멀티에이\\n전트 협업 접근법의 좋은 예시입니다\\n. 이 파이프라인은 분류, 변환, 메타데이터 추출, 도메인별 작업\\n을 처리하는 여러 전문화된 에이전트로 구성되어 있습니다\\n. 각 에이전트는 특정 기능을 담당하며,\\n이들을 조율함으로써 다양한 형태의 비구조적 데이터 수집과 변환을 자동화할 수 있습니다\\n.\\n2단계: MCP와 멀티모달 기술 심화 (6-8주)\\n[6]\\n[6]\\n[6]\\n[7]\\n[7]\\n[7]\\n[8]\\n[8]\\n[9]\\n[9]\\n3단계: 고급 멀티에이전트 아키텍처 구현 (8-10주)\\n[10]\\n[10]\\n[10]\\n[11]\\n[11]\\n[11]\\n실무 적용 프로젝트 포트폴리오 구성'),\n",
       " Document(id='30fdd759-bd6b-4895-a130-8d8a80e9bbe8', metadata={'producer': 'Skia/PDF m127', 'creator': 'Chromium', 'creationdate': '2025-07-29T08:39:36+00:00', 'source': './mystudy\\\\클로드 코드 서브에이전트 데이터분석 전문가 활용 후기.pdf', 'file_path': './mystudy\\\\클로드 코드 서브에이전트 데이터분석 전문가 활용 후기.pdf', 'total_pages': 3, 'format': 'PDF 1.4', 'title': '', 'author': '', 'subject': '', 'keywords': '', 'moddate': '2025-07-29T08:39:36+00:00', 'trapped': '', 'modDate': \"D:20250729083936+00'00'\", 'creationDate': \"D:20250729083936+00'00'\", 'page': 0}, page_content='클로드 코드의 서브에이전트 기능 중 데이터분석 전문가 역할에 대한 전문가들의 실제 사용 후기와 평\\n가를 정리하면 다음과 같습니다.\\n마케터의 실제 활용 사례\\n에서 클로드를 이용한 데이터 분석이 주목할 만한 성과를 보여주었습니다.\\n1,600건의 고객 문의 데이터를 단 5분만에 분석하여 광고 효율을 33% 개선했다는 사례가 보고되었습\\n니다. 이 사용자는 \"클로드가 압도적으로 디테일했고, 무엇보다 아티팩트 기능 덕분에 시각화 자료를\\n바로 볼 수 있어서 직관적이었다\"고 평가했습니다\\n.\\n클로드 코드의 서브에이전트는 독립된 컨텍스트와 전문성을 가지고 특정 역할을 수행하도록 설계되어\\n있습니다\\n. 데이터 사이언티스트 서브에이전트는 다음과 같은 특징을 가집니다:\\nGitHub의 44개 전문 서브에이전트 컬렉션\\n에서 데이터 사이언티스트 에이전트가 포함되어 있으며,\\n실제 프로덕션 환경에서 사용 가능한 수준으로 평가받고 있습니다.\\nAnthropic 내부 팀의 활용 사례'),\n",
       " Document(id='58bd3323-e2d8-4996-9c3d-fbda39e45ca0', metadata={'producer': 'Skia/PDF m127', 'creator': 'Chromium', 'creationdate': '2025-06-09T14:53:21+00:00', 'source': './mystudy\\\\멀티에이전트 시스템 취업 성공을 위한 전략적 로드맵.pdf', 'file_path': './mystudy\\\\멀티에이전트 시스템 취업 성공을 위한 전략적 로드맵.pdf', 'total_pages': 3, 'format': 'PDF 1.4', 'title': '', 'author': '', 'subject': '', 'keywords': '', 'moddate': '2025-06-09T14:53:21+00:00', 'trapped': '', 'modDate': \"D:20250609145321+00'00'\", 'creationDate': \"D:20250609145321+00'00'\", 'page': 0}, page_content='대한 요구가 급증하고 있습니다.\\n2024년 LinkedIn 기술 리포트에 의하면, 성공적인 멀티에이전트 개발자를 위한 3대 핵심 역량은 다음\\n과 같습니다:\\nLangGraph의 계층적 상태 관리 모델\\n을 활용한 설계 패턴 연마가 필수적입니다. 주요 접근법은 다음\\n과 같습니다:\\n멀티에이전트 시스템 취업 성공을 위한 전략적 로드맵\\n1. 산업 수요 분석 기반 목표 설정\\n1.1 글로벌 AI 에이전트 시장 동향 파악\\n[1]\\n1.2 역량 요구사항 구조화\\n1. 분산 의사결정 아키텍처 설계(42% 기업 요구)\\n2. 이기종 에이전트 협업 메커니즘 구현(38%)\\n3. 실시간 환경 적응형 학습 시스템 구축(35%)\\n. 이러한 수요를 반영하여 학습 계획을 도메인별 심\\n화 트랙(헬스케어/제조업/금융 등)으로 세분화하는 것이 효과적입니다.\\n[1]\\n2. 기술 마스터리 증진을 위한 단계적 접근\\n2.1 시스템 설계 역량 강화\\n[2]\\n의존성 주입 아키텍처: 에이전트 간 상호작용을 명시적으로 정의하는 인터페이스 설계'),\n",
       " Document(id='c7e58232-1909-4f78-bfd9-34763026e6be', metadata={'producer': 'Skia/PDF m127', 'creator': 'Chromium', 'creationdate': '2025-06-09T05:34:42+00:00', 'source': './mystudy\\\\멀티에이전트 시스템 취업 준비 완벽 가이드.pdf', 'file_path': './mystudy\\\\멀티에이전트 시스템 취업 준비 완벽 가이드.pdf', 'total_pages': 4, 'format': 'PDF 1.4', 'title': '', 'author': '', 'subject': '', 'keywords': '', 'moddate': '2025-06-09T05:34:42+00:00', 'trapped': '', 'modDate': \"D:20250609053442+00'00'\", 'creationDate': \"D:20250609053442+00'00'\", 'page': 2}, page_content='[12]\\n[12]\\n프로젝트 2: 다중 도메인 고객 서비스 에이전트 시스템\\n[11]\\n[11]\\n[11]\\n프로젝트 3: 여행 추천 멀티에이전트 시스템\\n[13]\\n[13]\\n[13]\\n취업 준비를 위한 핵심 역량 개발\\n[13]\\n[13]\\n[11]')]"
      ]
     },
     "execution_count": 6,
     "metadata": {},
     "output_type": "execute_result"
    }
   ],
   "source": [
    "# 3. 임베딩, 4. 벡터스토어 저장\n",
    "from langchain_openai import OpenAIEmbeddings\n",
    "from langchain_community.vectorstores import FAISS\n",
    "\n",
    "embedding = OpenAIEmbeddings()\n",
    "\n",
    "vectorstore = FAISS.from_documents(documents=split_docs, embedding=embedding)\n",
    "\n",
    "# Test\n",
    "vectorstore.similarity_search(\"에이전트\", k=4)"
   ]
  },
  {
   "cell_type": "code",
   "execution_count": 7,
   "id": "18b6f0b9",
   "metadata": {},
   "outputs": [
    {
     "name": "stdout",
     "output_type": "stream",
     "text": [
      "('다음은 주어진 문서들을 바탕으로 이 사람이 공부하고 배운 내용의 가치 있는 부분과 시사점(임플리케이션)을 정리한 요약입니다.\\n'\n",
      " '\\n'\n",
      " '1) 관계와 심리 인사이트(선물/호의의 사례 인식)\\n'\n",
      " '- 핵심 내용\\n'\n",
      " '  - 선물이나 호의에 대해 바로 보답해야 한다는 의무감이 부담으로 작용하는 경우가 많다.\\n'\n",
      " '  - 받는 것의 기쁨을 상대도 느낄 수 있도록 마음가짐을 바꿔보면 관계의 긴장을 완화할 수 있다.\\n'\n",
      " '  - 모든 호의에 즉시 보답하지 않아도 되고, 나중에 내가 할 수 있을 때 내 방식으로 돌려주면 된다는 생각이 관계의 균형을 자연스럽게 '\n",
      " '회복시키는 데 도움이 된다.\\n'\n",
      " '- 임플리케이션\\n'\n",
      " '  - 대인관계에서 불필요한 긴장을 줄이고 상호 배려를 지속적으로 유지하는 데 유용한 사고방식이다.\\n'\n",
      " '  - 팀이나 협업 상황에서 기여와 보답의 흐름을 장기적으로 바라볼 수 있어 스트레스를 낮추고 신뢰를 구축하는 데 도움이 된다.\\n'\n",
      " '  - “상대의 기쁜 마음”에 집중하는 태도는 협업과 피드백 문화 형성에 긍정적이다.\\n'\n",
      " '\\n'\n",
      " '2) 문제 해결 학습 방법론(Decomposition/단순화 매뉴얼)\\n'\n",
      " '- 핵심 내용\\n'\n",
      " '  - 6-step 루틴으로 문제를 체계적으로 다룬다: Clarify, Examples, Constraints & Brute-Force, '\n",
      " 'Decompose & Plan, Code in(추정상 5단계까지 제시).\\n'\n",
      " '  - 각 단계의 핵심 활동\\n'\n",
      " '    - Clarify: 입력/출력/제약/엣지 케이스를 재진술하고 주석으로 옮겨 오독을 줄임.\\n'\n",
      " '    - Examples: 정상/엣지/반례의 테스트를 직접 만들어 조건을 밝힘.\\n'\n",
      " '    - Constraints & Brute-Force: 문제의 한계와 직관적(느린) 해법을 먼저 확인해 두면 이후 최적화가 쉬움.\\n'\n",
      " '    - Decompose & Plan: 문제를 MECE 원칙으로 분할하고 의사코드를 작성해 함수 설계를 명확히 함.\\n'\n",
      " '    - Code in: 실제 구현 단계로 넘어감(문서에 5단계까지 제시).\\n'\n",
      " '- 임플리케이션\\n'\n",
      " '  - 복잡한 코딩 문제를 체계적으로 접근하는 강력한 프레임워크를 제공하므로, 학습과 실무 모두에서 적용 가능.\\n'\n",
      " '  - 테스트 주도 학습과 사전 설계의 습관화를 돕고, 협업 시에도 요구사항를 명확히 하고 재사용 가능한 구성요소를 만들게 한다.\\n'\n",
      " '  - 초기에 느린 해법을 먼저 생각해 두면 later optimization이 더 수월해진다는 점은 시간 복잡도 관리에 큰 도움이 '\n",
      " '된다.\\n'\n",
      " '\\n'\n",
      " '3) 개인 강점/역량( CliftonStrengths Top 5 )\\n'\n",
      " '- 핵심 내용\\n'\n",
      " '  - Top 5: 공감(Empathy), 발상(Ideation), 개별화(Individualization), '\n",
      " '심사숙고(Deliberative), 전략(Strategic).\\n'\n",
      " '  - 공감과 경청 능력으로 타인의 감정과 욕구를 잘 파악하고, 상대가 말하기도 전에 일부를 예측하는 등 대인 관계에 강점이 있다.\\n'\n",
      " '  - 아이디어를 생성하고, 각 상황에 맞는 개별화된 접근을 설계하며, 위험을 사전에 평가하고 구조적으로 문제를 해결하는 경향이 있다.\\n'\n",
      " '  - 경청하는 태도 자체가 도움과 치유 효과를 낸다고 설명되어 있다.\\n'\n",
      " '- 임플리케이션\\n'\n",
      " '  - 팀 워크에서 신뢰 구축, 협업 효율, 맞춤형 커뮤니케이션에 강점이 있다.\\n'\n",
      " '  - 문제 해결 시에는 아이디어를 많이 내되, Deliberative/Strategic 강점을 활용해 위험을 체계적으로 검토하고, '\n",
      " 'Individualization으로 다양한 이해관계자에 맞춘 접근을 시도할 수 있다.\\n'\n",
      " '  - 학습이나 코딩 프로젝트에서 사람 중심의 협업 설계와 피드백 수용 능력이 큰 강점으로 작용할 가능성이 큼.\\n'\n",
      " '\\n'\n",
      " '4) 종합적 시사점 및 적용 제안\\n'\n",
      " '- 학습/코딩에의 적용\\n'\n",
      " '  - 문제 접근 시, Clarify-Examples-Constraints-Decompose-Code 순으로 체계화하는 습관을 유지하면 '\n",
      " '복잡한 과제도 명확하게 정리 가능.\\n'\n",
      " '  - 팀 프로젝트에서 Empathy와 Individualization을 활용해 동료의 요구와 강점을 파악하고, Ideation으로 '\n",
      " '다양한 해결책을 제안한 뒤 Deliberative/Strategic로 최적 선택을 도출.\\n'\n",
      " '- 대인관계 및 커뮤니케이션에의 적용\\n'\n",
      " '  - 선물/호의에 대한 보답 관점을 바꿔 관계의 흐름을 장기적으로 관리하는 능력은 팀 내 갈등 예방과 신뢰 형성에 도움.\\n'\n",
      " '  - 경청과 집중을 바탕으로 상대의 요구를 먼저 파악하고, 맞춤형 피드백이나 지원으로 협업 효율을 높일 수 있음.\\n'\n",
      " '- 개인 발전 차원\\n'\n",
      " '  - 자신의 강점을 의식적으로 활용하는 학습 계획을 세우고, 약점은 보완하는 방식으로 성장 로드맵을 구성.\\n'\n",
      " '  - 문제 해결 루틴을 실제 프로젝트에 적용해 루브릭화하고, 테스트 케이스를 꼼꼼히 작성하는 습관을 생활화.\\n'\n",
      " '\\n'\n",
      " '참고: 위 내용은 문서에 포함된 내용(선물에 대한 사고방식, 6-step 문제해체 매뉴얼, CliftonStrengths Top 5 '\n",
      " '설명)에서 도출한 가치 있는 요약과 시사점입니다. 추가로 특정 부분의 자세한 문구나 예시가 필요하시면 알려주세요.')\n"
     ]
    }
   ],
   "source": [
    "# 5. RAG\n",
    "from langchain_openai import ChatOpenAI\n",
    "from langchain_core.prompts import PromptTemplate\n",
    "from langchain_core.runnables import RunnablePassthrough\n",
    "from langchain_core.output_parsers import StrOutputParser\n",
    "\n",
    "from langchain import hub\n",
    "from pprint import pprint\n",
    "\n",
    "# Prompt 세팅\n",
    "prompt = PromptTemplate(\n",
    "    input_variables=[\"context\", \"question\"],\n",
    "    template=\"\"\"당신은 제공된 PDF 자료를 기반으로 답변하는 전문 어시스턴트입니다.\n",
    "    \n",
    "주어진 문서 내용을 바탕으로 질문에 정확하고 상세하게 답변해주세요.\n",
    "문서에 정보가 없다면 \"제공된 자료에서 해당 정보를 찾을 수 없습니다\"라고 답하세요.\n",
    "\n",
    "문서 내용:\n",
    "{context}\n",
    "\n",
    "질문: {question}\n",
    "\n",
    "답변:\"\"\"\n",
    ")\n",
    "\n",
    "# LLM 모델\n",
    "llm = ChatOpenAI(model=\"gpt-5-nano\", temperature=0.3)\n",
    "\n",
    "# 검색기 생성(retriever 생성)\n",
    "retriever = vectorstore.as_retriever()\n",
    "\n",
    "chain = (\n",
    "    {\"context\": retriever, \"question\": RunnablePassthrough()}\n",
    "    | prompt\n",
    "    | llm\n",
    "    | StrOutputParser()\n",
    ")\n",
    "\n",
    "pprint(chain.invoke(\"이 사람이 공부하고 배운 내용중 가치있는 부분이나 임플리케이션이 있다면 정리하고 요약해줘\"))"
   ]
  }
 ],
 "metadata": {
  "kernelspec": {
   "display_name": "Python 3",
   "language": "python",
   "name": "python3"
  },
  "language_info": {
   "codemirror_mode": {
    "name": "ipython",
    "version": 3
   },
   "file_extension": ".py",
   "mimetype": "text/x-python",
   "name": "python",
   "nbconvert_exporter": "python",
   "pygments_lexer": "ipython3",
   "version": "3.13.2"
  }
 },
 "nbformat": 4,
 "nbformat_minor": 5
}
