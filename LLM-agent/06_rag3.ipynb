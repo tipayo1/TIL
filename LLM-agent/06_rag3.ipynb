{
 "cells": [
  {
   "cell_type": "code",
   "execution_count": null,
   "id": "e32eebe0",
   "metadata": {},
   "outputs": [],
   "source": [
    "pip install langchain-mcp-adapters"
   ]
  },
  {
   "cell_type": "code",
   "execution_count": null,
   "id": "80509909",
   "metadata": {},
   "outputs": [
    {
     "ename": "NameError",
     "evalue": "name 'documents' is not defined",
     "output_type": "error",
     "traceback": [
      "\u001b[31m---------------------------------------------------------------------------\u001b[39m",
      "\u001b[31mNameError\u001b[39m                                 Traceback (most recent call last)",
      "\u001b[36mCell\u001b[39m\u001b[36m \u001b[39m\u001b[32mIn[1]\u001b[39m\u001b[32m, line 8\u001b[39m\n\u001b[32m      5\u001b[39m embedding = OpenAIEmbeddings(model=\u001b[33m\"\u001b[39m\u001b[33mtext-embedding-3-small\u001b[39m\u001b[33m\"\u001b[39m)\n\u001b[32m      7\u001b[39m \u001b[38;5;66;03m# VectorStore 에 임베딩 후 저장(In memory)\u001b[39;00m\n\u001b[32m----> \u001b[39m\u001b[32m8\u001b[39m vectorstore = FAISS.from_documents(\u001b[43mdocuments\u001b[49m, embedding=embedding)\n\u001b[32m     10\u001b[39m \u001b[38;5;66;03m# 1. Load\u001b[39;00m\n\u001b[32m     11\u001b[39m \u001b[38;5;28;01mimport\u001b[39;00m\u001b[38;5;250m \u001b[39m\u001b[34;01mglob\u001b[39;00m\n",
      "\u001b[31mNameError\u001b[39m: name 'documents' is not defined"
     ]
    }
   ],
   "source": [
    "from langchain_openai import OpenAIEmbeddings\n",
    "from langchain_community.vectorstores import FAISS\n",
    "\n",
    "# OpenAI 임베딩 모델\n",
    "embedding = OpenAIEmbeddings(model=\"text-embedding-3-small\")\n",
    "\n",
    "# VectorStore 에 임베딩 후 저장(In memory)\n",
    "vectorstore = FAISS.from_documents(documents, embedding=embedding)\n",
    "\n",
    "# 1. Load\n",
    "import glob\n",
    "from langchain_community.document_loaders import PyMuPDFLoader\n",
    "\n",
    "file_list = glob.glob(\"./mystudy/*.pdf\")  # mystudy 폴더 내 모든 pdf 파일 경로 리스트\n",
    "all_docs = []\n",
    "\n",
    "for file_path in file_list:\n",
    "    loader = PyMuPDFLoader(file_path)\n",
    "    docs = loader.load()\n",
    "    all_docs.extend(docs)\n",
    "\n",
    "print(\"총 로드한 페이지 수:\", len(all_docs))\n",
    "\n",
    "# 2. Split\n",
    "from langchain_text_splitters import RecursiveCharacterTextSplitter\n",
    "\n",
    "# 500글자당 1 청크 / 50글자는 겹치게 나눈다.\n",
    "text_splitter = RecursiveCharacterTextSplitter(chunk_size=500, chunk_overlap=50)\n",
    "split_docs = text_splitter.split_documents(all_docs)\n",
    "\n",
    "print(\"분할 후 청크 수\", len(split_docs))\n",
    "\n",
    "# 3. 임베딩, 4. 벡터스토어 저장\n",
    "from langchain_openai import OpenAIEmbeddings\n",
    "from langchain_community.vectorstores import FAISS\n",
    "\n",
    "embedding = OpenAIEmbeddings()\n",
    "\n",
    "vectorstore = FAISS.from_documents(documents=split_docs, embedding=embedding)\n",
    "\n",
    "# Test\n",
    "vectorstore.similarity_search(\"에이전트\", k=4)\n",
    "\n",
    "# 5. RAG\n",
    "from langchain_openai import ChatOpenAI\n",
    "from langchain_core.prompts import PromptTemplate\n",
    "from langchain_core.runnables import RunnablePassthrough\n",
    "from langchain_core.output_parsers import StrOutputParser\n",
    "\n",
    "from langchain import hub\n",
    "from pprint import pprint\n",
    "\n",
    "# Prompt 세팅\n",
    "prompt = PromptTemplate(\n",
    "    input_variables=[\"context\", \"question\"],\n",
    "    template=\"\"\"당신은 제공된 PDF 자료를 기반으로 답변하는 전문 어시스턴트입니다.\n",
    "    \n",
    "주어진 문서 내용을 바탕으로 질문에 정확하고 상세하게 답변해주세요.\n",
    "문서에 정보가 없다면 \"제공된 자료에서 해당 정보를 찾을 수 없습니다\"라고 답하세요.\n",
    "\n",
    "문서 내용:\n",
    "{context}\n",
    "\n",
    "질문: {question}\n",
    "\n",
    "답변:\"\"\"\n",
    ")\n",
    "\n",
    "# LLM 모델\n",
    "llm = ChatOpenAI(model=\"gpt-5-nano\", temperature=0.5)\n",
    "\n",
    "# 검색기 생성(retriever 생성)\n",
    "retriever = vectorstore.as_retriever()\n",
    "\n",
    "chain = (\n",
    "    {\"context\": retriever, \"question\": RunnablePassthrough()}\n",
    "    | prompt\n",
    "    | llm\n",
    "    | StrOutputParser()\n",
    ")\n",
    "\n",
    "pprint(chain.invoke(\"이 사람이 공부하고 배운 내용중 가치있는 부분이나 임플리케이션이 있다면 정리하고 요약해줘\"))"
   ]
  },
  {
   "cell_type": "code",
   "execution_count": null,
   "id": "46bbf779",
   "metadata": {},
   "outputs": [],
   "source": []
  }
 ],
 "metadata": {
  "kernelspec": {
   "display_name": "Python 3",
   "language": "python",
   "name": "python3"
  },
  "language_info": {
   "codemirror_mode": {
    "name": "ipython",
    "version": 3
   },
   "file_extension": ".py",
   "mimetype": "text/x-python",
   "name": "python",
   "nbconvert_exporter": "python",
   "pygments_lexer": "ipython3",
   "version": "3.13.2"
  }
 },
 "nbformat": 4,
 "nbformat_minor": 5
}
